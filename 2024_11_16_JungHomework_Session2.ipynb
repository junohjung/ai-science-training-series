{
  "cells": [
    {
      "cell_type": "markdown",
      "metadata": {
        "id": "view-in-github",
        "colab_type": "text"
      },
      "source": [
        "<a href=\"https://colab.research.google.com/github/junohjung/ai-science-training-series/blob/main/2024_11_16_JungHomework_Session2.ipynb\" target=\"_parent\"><img src=\"https://colab.research.google.com/assets/colab-badge.svg\" alt=\"Open In Colab\"/></a>"
      ]
    },
    {
      "cell_type": "markdown",
      "metadata": {
        "id": "CH6C-uUw9DB8"
      },
      "source": [
        "# Introduction to Neural Networks\n",
        "Author: Marieme Ngom, adapting materials from Bethany Lusch, Asad Khan, Prasanna Balaprakash, Taylor Childers, Corey Adams, Kyle Felker, and Tanwi Mallick.\n",
        "\n",
        "This tutorial will serve as a gentle introduction to neural networks and deep learning through a hands-on classification problem using the MNIST dataset.\n",
        "\n",
        "In particular, we will introduce neural networks and how to train and improve their learning capabilities.  We will use the PyTorch Python library.\n",
        "\n",
        "The [MNIST dataset](http://yann.lecun.com/exdb/mnist/) contains thousands of examples of handwritten numbers, with each digit labeled 0-9.\n",
        "<img src=\"https://github.com/junohjung/ai-science-training-series/blob/main/02_intro_neural_networks/images/mnist_task.png?raw=1\"  align=\"left\"/>\n",
        "\n"
      ]
    },
    {
      "cell_type": "code",
      "execution_count": 2,
      "metadata": {
        "id": "HwZgVctI9DCA"
      },
      "outputs": [],
      "source": [
        "%matplotlib inline\n",
        "\n",
        "import torch\n",
        "import torchvision\n",
        "from torch import nn\n",
        "\n",
        "import numpy\n",
        "import matplotlib.pyplot as plt\n",
        "import time"
      ]
    },
    {
      "cell_type": "markdown",
      "metadata": {
        "id": "lQF4uwvo9DCC"
      },
      "source": [
        "## The MNIST dataset\n",
        "\n",
        "We will now download the dataset that contains handwritten digits. MNIST is a popular dataset, so we can download it via the PyTorch library. Note:\n",
        "- x is for the inputs (images of handwritten digits) and y is for the labels or outputs (digits 0-9)\n",
        "- We are given \"training\" and \"test\" datasets. Training datasets are used to fit the model. Test datasets are saved until the end, when we are satisfied with our model, to estimate how well our model generalizes to new data.\n",
        "\n",
        "Note that downloading it the first time might take some time.\n",
        "The data is split as follows:\n",
        "- 60,000 training examples, 10,000 test examples\n",
        "- inputs: 1 x 28 x 28 pixels\n",
        "- outputs (labels): one integer per example"
      ]
    },
    {
      "cell_type": "code",
      "execution_count": 3,
      "metadata": {
        "colab": {
          "base_uri": "https://localhost:8080/"
        },
        "id": "5-8FrrMn9DCD",
        "outputId": "91073c89-b378-4465-8731-3610b36d781e"
      },
      "outputs": [
        {
          "output_type": "stream",
          "name": "stdout",
          "text": [
            "Downloading http://yann.lecun.com/exdb/mnist/train-images-idx3-ubyte.gz\n",
            "Failed to download (trying next):\n",
            "HTTP Error 403: Forbidden\n",
            "\n",
            "Downloading https://ossci-datasets.s3.amazonaws.com/mnist/train-images-idx3-ubyte.gz\n",
            "Downloading https://ossci-datasets.s3.amazonaws.com/mnist/train-images-idx3-ubyte.gz to data/MNIST/raw/train-images-idx3-ubyte.gz\n"
          ]
        },
        {
          "output_type": "stream",
          "name": "stderr",
          "text": [
            "100%|██████████| 9.91M/9.91M [00:00<00:00, 37.1MB/s]\n"
          ]
        },
        {
          "output_type": "stream",
          "name": "stdout",
          "text": [
            "Extracting data/MNIST/raw/train-images-idx3-ubyte.gz to data/MNIST/raw\n",
            "\n",
            "Downloading http://yann.lecun.com/exdb/mnist/train-labels-idx1-ubyte.gz\n",
            "Failed to download (trying next):\n",
            "HTTP Error 403: Forbidden\n",
            "\n",
            "Downloading https://ossci-datasets.s3.amazonaws.com/mnist/train-labels-idx1-ubyte.gz\n",
            "Downloading https://ossci-datasets.s3.amazonaws.com/mnist/train-labels-idx1-ubyte.gz to data/MNIST/raw/train-labels-idx1-ubyte.gz\n"
          ]
        },
        {
          "output_type": "stream",
          "name": "stderr",
          "text": [
            "100%|██████████| 28.9k/28.9k [00:00<00:00, 1.13MB/s]\n"
          ]
        },
        {
          "output_type": "stream",
          "name": "stdout",
          "text": [
            "Extracting data/MNIST/raw/train-labels-idx1-ubyte.gz to data/MNIST/raw\n",
            "\n",
            "Downloading http://yann.lecun.com/exdb/mnist/t10k-images-idx3-ubyte.gz\n",
            "Failed to download (trying next):\n",
            "HTTP Error 403: Forbidden\n",
            "\n",
            "Downloading https://ossci-datasets.s3.amazonaws.com/mnist/t10k-images-idx3-ubyte.gz\n",
            "Downloading https://ossci-datasets.s3.amazonaws.com/mnist/t10k-images-idx3-ubyte.gz to data/MNIST/raw/t10k-images-idx3-ubyte.gz\n"
          ]
        },
        {
          "output_type": "stream",
          "name": "stderr",
          "text": [
            "100%|██████████| 1.65M/1.65M [00:00<00:00, 10.0MB/s]\n"
          ]
        },
        {
          "output_type": "stream",
          "name": "stdout",
          "text": [
            "Extracting data/MNIST/raw/t10k-images-idx3-ubyte.gz to data/MNIST/raw\n",
            "\n",
            "Downloading http://yann.lecun.com/exdb/mnist/t10k-labels-idx1-ubyte.gz\n",
            "Failed to download (trying next):\n",
            "HTTP Error 403: Forbidden\n",
            "\n",
            "Downloading https://ossci-datasets.s3.amazonaws.com/mnist/t10k-labels-idx1-ubyte.gz\n",
            "Downloading https://ossci-datasets.s3.amazonaws.com/mnist/t10k-labels-idx1-ubyte.gz to data/MNIST/raw/t10k-labels-idx1-ubyte.gz\n"
          ]
        },
        {
          "output_type": "stream",
          "name": "stderr",
          "text": [
            "100%|██████████| 4.54k/4.54k [00:00<00:00, 8.72MB/s]"
          ]
        },
        {
          "output_type": "stream",
          "name": "stdout",
          "text": [
            "Extracting data/MNIST/raw/t10k-labels-idx1-ubyte.gz to data/MNIST/raw\n",
            "\n"
          ]
        },
        {
          "output_type": "stream",
          "name": "stderr",
          "text": [
            "\n"
          ]
        }
      ],
      "source": [
        "training_data = torchvision.datasets.MNIST(\n",
        "    root=\"data\",\n",
        "    train=True,\n",
        "    download=True,\n",
        "    transform=torchvision.transforms.ToTensor()\n",
        ")\n",
        "\n",
        "test_data = torchvision.datasets.MNIST(\n",
        "    root=\"data\",\n",
        "    train=False,\n",
        "    download=True,\n",
        "    transform=torchvision.transforms.ToTensor()\n",
        ")"
      ]
    },
    {
      "cell_type": "code",
      "execution_count": 4,
      "metadata": {
        "id": "ZxLY-GFk9DCE"
      },
      "outputs": [],
      "source": [
        "train_size = int(0.8 * len(training_data))  # 80% for training\n",
        "val_size = len(training_data) - train_size  # Remaining 20% for validation\n",
        "training_data, validation_data = torch.utils.data.random_split(training_data, [train_size, val_size], generator=torch.Generator().manual_seed(55))"
      ]
    },
    {
      "cell_type": "code",
      "execution_count": 5,
      "metadata": {
        "colab": {
          "base_uri": "https://localhost:8080/"
        },
        "id": "BOTze4K89DCE",
        "outputId": "21698543-caf2-4c27-ffbd-3518e9493b20"
      },
      "outputs": [
        {
          "output_type": "stream",
          "name": "stdout",
          "text": [
            "MNIST data loaded: train: 48000  examples, validation:  12000 examples, test: 10000 examples\n",
            "Input shape torch.Size([1, 28, 28])\n"
          ]
        }
      ],
      "source": [
        "print('MNIST data loaded: train:',len(training_data),' examples, validation: ', len(validation_data), 'examples, test:',len(test_data), 'examples')\n",
        "print('Input shape', training_data[0][0].shape)"
      ]
    },
    {
      "cell_type": "markdown",
      "metadata": {
        "id": "nBAIqY2A9DCF"
      },
      "source": [
        "Let's take a closer look. Here are the first 10 training digits:"
      ]
    },
    {
      "cell_type": "code",
      "execution_count": 6,
      "metadata": {
        "colab": {
          "base_uri": "https://localhost:8080/",
          "height": 125
        },
        "id": "l7rV18O09DCF",
        "outputId": "9d4285c2-9323-4bd3-88a8-8c0e97248dac"
      },
      "outputs": [
        {
          "output_type": "display_data",
          "data": {
            "text/plain": [
              "<Figure size 1000x100 with 10 Axes>"
            ],
            "image/png": "[encoded data removed]"
          },
          "metadata": {}
        }
      ],
      "source": [
        "pltsize=1\n",
        "plt.figure(figsize=(10*pltsize, pltsize))\n",
        "\n",
        "for i in range(10):\n",
        "    plt.subplot(1,10,i+1)\n",
        "    plt.axis('off')\n",
        "    plt.imshow(numpy.reshape(training_data[i][0], (28, 28)), cmap=\"gray\")\n",
        "    plt.title('Class: '+str(training_data[i][1]))"
      ]
    },
    {
      "cell_type": "markdown",
      "metadata": {
        "id": "h0mFi4dr9DCF"
      },
      "source": [
        "# Generalities:\n",
        "To train our classifier, we need (besides the data):\n",
        "- A model that depend on parameters $\\mathbf{\\theta}$. Here we are going to use neural networks.\n",
        "- A loss function $J(\\mathbf{\\theta})$ to measure the capabilities of the model.\n",
        "- An optimization method."
      ]
    },
    {
      "cell_type": "markdown",
      "metadata": {
        "id": "Y2o9ERO19DCG"
      },
      "source": [
        "# Linear Model\n",
        "Let's begin with a simple linear model: linear regression, like last week.\n",
        "We add one complication: each example is a vector (flattened image), so the \"slope\" multiplication becomes a dot product. If the target output is a vector as well, then the multiplication becomes matrix multiplication.\n",
        "\n",
        "Note, like before, we consider multiple examples at once, adding another dimension to the input.\n",
        "\n",
        "\n",
        " <img src=\"https://github.com/junohjung/ai-science-training-series/blob/main/02_intro_neural_networks/images/LinearModel_1.png?raw=1\"  align=\"center\"/>\n",
        "\n",
        "\n",
        "\n",
        "The linear layers in PyTorch perform a basic $xW + b$. These \"fully connected\" layers connect each input to each output with some weight parameter. We wouldn't expect a simple linear model $f(x) = xW+b$ directly outputting the class label and minimizing mean squared error to work well - the model would output labels like 3.55 and 2.11 instead of skipping to integers."
      ]
    },
    {
      "cell_type": "markdown",
      "metadata": {
        "id": "CmBUu99a9DCG"
      },
      "source": [
        "We now need:\n",
        "- A loss function $J(\\theta)$ where $\\theta$ is the list of parameters (here W and b). Last week, we used mean squared error (MSE), but this week let's make two changes that make more sense for classification:\n",
        "    - Change the output to be a length-10 vector of class probabilities (0 to 1, adding to 1).\n",
        "    - Cross entropy as the loss function, which is typical for classification. You can read more [here](https://gombru.github.io/2018/05/23/cross_entropy_loss/).\n",
        "\n",
        "- An optimization method or optimizer such as the stochastic gradient descent (sgd) method, the Adam optimizer, RMSprop, Adagrad etc. Let's start with stochastic gradient descent (sgd), like last week. For far more information about more advanced optimizers than basic SGD, with some cool animations, see https://ruder.io/optimizing-gradient-descent/ or https://distill.pub/2017/momentum/.\n",
        "\n",
        "- A learning rate. As we learned last week, the learning rate controls how far we move during each step."
      ]
    },
    {
      "cell_type": "code",
      "execution_count": 7,
      "metadata": {
        "id": "ILFqKDuU9DCH"
      },
      "outputs": [],
      "source": [
        "class LinearClassifier(nn.Module):\n",
        "\n",
        "    def __init__(self):\n",
        "        super().__init__()\n",
        "\n",
        "        # First, we need to convert the input image to a vector by using\n",
        "        # nn.Flatten(). For MNIST, it means the second dimension 28*28 becomes 784.\n",
        "        self.flatten = nn.Flatten()\n",
        "\n",
        "        # Here, we add a fully connected (\"dense\") layer that has 28 x 28 = 784 input nodes\n",
        "        #(one for each pixel in the input image) and 10 output nodes (for probabilities of each class).\n",
        "        self.layer_1 = nn.Linear(28*28, 10)\n",
        "\n",
        "    def forward(self, x):\n",
        "\n",
        "        x = self.flatten(x)\n",
        "        x = self.layer_1(x)\n",
        "\n",
        "        return x"
      ]
    },
    {
      "cell_type": "code",
      "execution_count": 8,
      "metadata": {
        "colab": {
          "base_uri": "https://localhost:8080/"
        },
        "id": "5Utdy4Mj9DCH",
        "outputId": "e1aa578b-bf45-47ad-c8c0-82676613079f"
      },
      "outputs": [
        {
          "output_type": "stream",
          "name": "stdout",
          "text": [
            "LinearClassifier(\n",
            "  (flatten): Flatten(start_dim=1, end_dim=-1)\n",
            "  (layer_1): Linear(in_features=784, out_features=10, bias=True)\n",
            ")\n"
          ]
        }
      ],
      "source": [
        "linear_model = LinearClassifier()\n",
        "print(linear_model)\n",
        "\n",
        "loss_fn = nn.CrossEntropyLoss()\n",
        "optimizer = torch.optim.SGD(linear_model.parameters(), lr=0.3)"
      ]
    },
    {
      "cell_type": "markdown",
      "metadata": {
        "id": "z8zqoH9F9DCI"
      },
      "source": [
        "# Learning\n",
        "Now we are ready to train our first model. A training step is comprised of:\n",
        "- A forward pass: the input is passed through the network\n",
        "- Backpropagation: A backward pass to compute the gradient $\\frac{\\partial J}{\\partial \\mathbf{W}}$ of the loss function with respect to the parameters of the network.\n",
        "- Weight updates $\\mathbf{W} = \\mathbf{W} - \\alpha \\frac{\\partial J}{\\partial \\mathbf{W}} $ where $\\alpha$ is the learning rate.\n",
        "\n",
        "How many steps do we take?\n",
        "- The batch size corresponds to the number of training examples in one pass (forward + backward). A smaller batch size allows the model to learn from individual examples but takes longer to train. A larger batch size requires fewer steps but may result in the model not capturing the nuances in the data. The higher the batch size, the more memory you will require.  \n",
        "- An epoch means one pass through the whole training data (looping over the batches). Using few epochs can lead to underfitting and using too many can lead to overfitting.\n",
        "- The choice of batch size and learning rate are important for performance, generalization and accuracy in deep learning.\n",
        "\n",
        "\n",
        "\n",
        "\n"
      ]
    },
    {
      "cell_type": "code",
      "execution_count": 9,
      "metadata": {
        "id": "kGCMHJOo9DCI"
      },
      "outputs": [],
      "source": [
        "batch_size = 128\n",
        "\n",
        "# The dataloader makes our dataset iterable\n",
        "train_dataloader = torch.utils.data.DataLoader(training_data, batch_size=batch_size)\n",
        "val_dataloader = torch.utils.data.DataLoader(validation_data, batch_size=batch_size)"
      ]
    },
    {
      "cell_type": "code",
      "execution_count": 10,
      "metadata": {
        "id": "vzMii8dq9DCJ"
      },
      "outputs": [],
      "source": [
        "def train_one_epoch(dataloader, model, loss_fn, optimizer):\n",
        "    model.train()\n",
        "    for batch, (X, y) in enumerate(dataloader):\n",
        "        # forward pass\n",
        "        pred = model(X)\n",
        "        loss = loss_fn(pred, y)\n",
        "\n",
        "        # backward pass calculates gradients\n",
        "        loss.backward()\n",
        "\n",
        "        # take one step with these gradients\n",
        "        optimizer.step()\n",
        "\n",
        "        # resets the gradients\n",
        "        optimizer.zero_grad()"
      ]
    },
    {
      "cell_type": "code",
      "execution_count": 11,
      "metadata": {
        "id": "uUaWQw2f9DCJ"
      },
      "outputs": [],
      "source": [
        "def evaluate(dataloader, model, loss_fn):\n",
        "    # Set the model to evaluation mode - some NN pieces behave differently during training\n",
        "    # Unnecessary in this situation but added for best practices\n",
        "    model.eval()\n",
        "    size = len(dataloader.dataset)\n",
        "    num_batches = len(dataloader)\n",
        "    loss, correct = 0, 0\n",
        "\n",
        "    # We can save computation and memory by not calculating gradients here - we aren't optimizing\n",
        "    with torch.no_grad():\n",
        "        # loop over all of the batches\n",
        "        for X, y in dataloader:\n",
        "            pred = model(X)\n",
        "            loss += loss_fn(pred, y).item()\n",
        "            # how many are correct in this batch? Tracking for accuracy\n",
        "            correct += (pred.argmax(1) == y).type(torch.float).sum().item()\n",
        "\n",
        "    loss /= num_batches\n",
        "    correct /= size\n",
        "\n",
        "    accuracy = 100*correct\n",
        "    return accuracy, loss"
      ]
    },
    {
      "cell_type": "code",
      "execution_count": 12,
      "metadata": {
        "colab": {
          "base_uri": "https://localhost:8080/"
        },
        "id": "_JxMtWcN9DCK",
        "outputId": "ec1c6330-9eca-4e4c-df88-d6f02e43dfb4"
      },
      "outputs": [
        {
          "output_type": "stream",
          "name": "stdout",
          "text": [
            "Epoch 0: training loss: 0.3507085420687993, accuracy: 90.43333333333334\n",
            "Epoch 0: val. loss: 0.33962039982384823, val. accuracy: 90.425\n",
            "Epoch 1: training loss: 0.31983223104476927, accuracy: 91.225\n",
            "Epoch 1: val. loss: 0.30997455611507946, val. accuracy: 91.14999999999999\n",
            "Epoch 2: training loss: 0.30552595933278404, accuracy: 91.60625\n",
            "Epoch 2: val. loss: 0.29711651437460107, val. accuracy: 91.56666666666666\n",
            "Epoch 3: training loss: 0.29664765457312264, accuracy: 91.87083333333334\n",
            "Epoch 3: val. loss: 0.2896413394111268, val. accuracy: 91.81666666666666\n",
            "Epoch 4: training loss: 0.2903573337395986, accuracy: 92.02291666666666\n",
            "Epoch 4: val. loss: 0.284681739325219, val. accuracy: 91.925\n",
            "CPU times: user 1min 13s, sys: 289 ms, total: 1min 13s\n",
            "Wall time: 1min 19s\n"
          ]
        }
      ],
      "source": [
        "%%time\n",
        "\n",
        "epochs = 5\n",
        "train_acc_all = []\n",
        "val_acc_all = []\n",
        "for j in range(epochs):\n",
        "    train_one_epoch(train_dataloader, linear_model, loss_fn, optimizer)\n",
        "\n",
        "    # checking on the training loss and accuracy once per epoch\n",
        "    acc, loss = evaluate(train_dataloader, linear_model, loss_fn)\n",
        "    train_acc_all.append(acc)\n",
        "    print(f\"Epoch {j}: training loss: {loss}, accuracy: {acc}\")\n",
        "\n",
        "    # checking on the validation loss and accuracy once per epoch\n",
        "    val_acc, val_loss = evaluate(val_dataloader, linear_model, loss_fn)\n",
        "    val_acc_all.append(val_acc)\n",
        "    print(f\"Epoch {j}: val. loss: {val_loss}, val. accuracy: {val_acc}\")"
      ]
    },
    {
      "cell_type": "code",
      "execution_count": 13,
      "metadata": {
        "colab": {
          "base_uri": "https://localhost:8080/",
          "height": 867
        },
        "id": "KRVXDVWF9DCK",
        "outputId": "df8159b8-5a96-447d-945b-d9537304c5ba"
      },
      "outputs": [
        {
          "output_type": "execute_result",
          "data": {
            "text/plain": [
              "<matplotlib.legend.Legend at 0x7baa308e0fd0>"
            ]
          },
          "metadata": {},
          "execution_count": 13
        },
        {
          "output_type": "display_data",
          "data": {
            "text/plain": [
              "<Figure size 1000x1000 with 1 Axes>"
            ],
            "image/png": "[encoded data removed]"
          },
          "metadata": {}
        }
      ],
      "source": [
        "pltsize=1\n",
        "plt.figure(figsize=(10*pltsize, 10 * pltsize))\n",
        "plt.plot(range(epochs), train_acc_all,label = 'Training Acc.' )\n",
        "plt.plot(range(epochs), val_acc_all, label = 'Validation Acc.' )\n",
        "plt.xlabel('Epoch #')\n",
        "plt.ylabel('Loss')\n",
        "plt.legend()"
      ]
    },
    {
      "cell_type": "code",
      "execution_count": 14,
      "metadata": {
        "colab": {
          "base_uri": "https://localhost:8080/",
          "height": 125
        },
        "id": "6UQfwT9_9DCK",
        "outputId": "ff15aa46-c721-4aa1-ed54-e18419060502"
      },
      "outputs": [
        {
          "output_type": "display_data",
          "data": {
            "text/plain": [
              "<Figure size 1000x100 with 10 Axes>"
            ],
            "image/png": "[encoded data removed]"
          },
          "metadata": {}
        }
      ],
      "source": [
        "# Visualize how the model is doing on the first 10 examples\n",
        "pltsize=1\n",
        "plt.figure(figsize=(10*pltsize, pltsize))\n",
        "linear_model.eval()\n",
        "batch = next(iter(train_dataloader))\n",
        "predictions = linear_model(batch[0])\n",
        "\n",
        "for i in range(10):\n",
        "    plt.subplot(1,10,i+1)\n",
        "    plt.axis('off')\n",
        "    plt.imshow(batch[0][i,0,:,:], cmap=\"gray\")\n",
        "    plt.title('%d' % predictions[i,:].argmax())"
      ]
    },
    {
      "cell_type": "markdown",
      "metadata": {
        "id": "ghyCj11k9DCL"
      },
      "source": [
        "Exercise: How can you improve the accuracy? Some things you might consider: increasing the number of epochs, changing the learning rate, etc."
      ]
    },
    {
      "cell_type": "markdown",
      "metadata": {
        "id": "yn1Edcu69DCL"
      },
      "source": [
        "# Prediction\n",
        "\n",
        "Let's see how our model generalizes to the unseen test data.\n",
        "\n"
      ]
    },
    {
      "cell_type": "code",
      "execution_count": 15,
      "metadata": {
        "id": "PM683kIl9DCL"
      },
      "outputs": [],
      "source": [
        "#create dataloader for test data\n",
        "# The dataloader makes our dataset iterable\n",
        "batch_size_test = 128\n",
        "test_dataloader = torch.utils.data.DataLoader(test_data, batch_size=batch_size_test)"
      ]
    },
    {
      "cell_type": "code",
      "execution_count": 16,
      "metadata": {
        "colab": {
          "base_uri": "https://localhost:8080/"
        },
        "id": "ma_UcwdU9DCL",
        "outputId": "8a22ffb1-d4dc-4ba3-9c96-75e381e4490d"
      },
      "outputs": [
        {
          "output_type": "stream",
          "name": "stdout",
          "text": [
            "Test loss: 0.2848, test accuracy: 92.15%\n"
          ]
        }
      ],
      "source": [
        "acc_test, loss_test = evaluate(test_dataloader, linear_model, loss_fn)\n",
        "print(\"Test loss: %.4f, test accuracy: %.2f%%\" % (loss_test, acc_test))"
      ]
    },
    {
      "cell_type": "markdown",
      "metadata": {
        "id": "oUe_bGoE9DCL"
      },
      "source": [
        "We can now take a closer look at the results.\n",
        "\n",
        "Let's define a helper function to show the failure cases of our classifier."
      ]
    },
    {
      "cell_type": "code",
      "execution_count": 17,
      "metadata": {
        "id": "H_imDZKI9DCL"
      },
      "outputs": [],
      "source": [
        "def show_failures(model, dataloader, maxtoshow=10):\n",
        "    model.eval()\n",
        "    batch = next(iter(dataloader))\n",
        "    predictions = model(batch[0])\n",
        "\n",
        "    rounded = predictions.argmax(1)\n",
        "    errors = rounded!=batch[1]\n",
        "    print('Showing max', maxtoshow, 'first failures. '\n",
        "          'The predicted class is shown first and the correct class in parentheses.')\n",
        "    ii = 0\n",
        "    plt.figure(figsize=(maxtoshow, 1))\n",
        "    for i in range(batch[0].shape[0]):\n",
        "        if ii>=maxtoshow:\n",
        "            break\n",
        "        if errors[i]:\n",
        "            plt.subplot(1, maxtoshow, ii+1)\n",
        "            plt.axis('off')\n",
        "            plt.imshow(batch[0][i,0,:,:], cmap=\"gray\")\n",
        "            plt.title(\"%d (%d)\" % (rounded[i], batch[1][i]))\n",
        "            ii = ii + 1"
      ]
    },
    {
      "cell_type": "markdown",
      "metadata": {
        "id": "zOCdcpW79DCM"
      },
      "source": [
        "Here are the first 10 images from the test data that this small model classified to a wrong class:\n",
        "\n"
      ]
    },
    {
      "cell_type": "code",
      "execution_count": 18,
      "metadata": {
        "colab": {
          "base_uri": "https://localhost:8080/",
          "height": 142
        },
        "id": "GwQAP88o9DCM",
        "outputId": "8ca20c20-0813-42a2-fde1-c6e5461e1332"
      },
      "outputs": [
        {
          "output_type": "stream",
          "name": "stdout",
          "text": [
            "Showing max 10 first failures. The predicted class is shown first and the correct class in parentheses.\n"
          ]
        },
        {
          "output_type": "display_data",
          "data": {
            "text/plain": [
              "<Figure size 1000x100 with 7 Axes>"
            ],
            "image/png": "[encoded data removed]"
          },
          "metadata": {}
        }
      ],
      "source": [
        "show_failures(linear_model, test_dataloader)"
      ]
    },
    {
      "cell_type": "markdown",
      "metadata": {
        "id": "G6-zEN3V9DCM"
      },
      "source": [
        "<!-- # Exercise:\n",
        "- Try changing the loss function,\n",
        "- Try changing the optimizer -->"
      ]
    },
    {
      "cell_type": "markdown",
      "metadata": {
        "id": "u1Cg50eS9DCM"
      },
      "source": [
        "# Multilayer Model\n",
        "Our linear model isn't enough for high accuracy on this dataset. To improve the model, we often need to add more layers and nonlinearities.\n",
        "<img src=\"https://github.com/junohjung/ai-science-training-series/blob/main/02_intro_neural_networks/images/shallow_nn.png?raw=1\"  align=\"left\"/>\n",
        "\n",
        "The output of this NN can be written as\n",
        "\\begin{equation}\\label{eq: NN1d}\n",
        "  \\hat{u}(x) = \\sigma_2(\\sigma_1(\\mathbf{x}\\mathbf{W}_1 + \\mathbf{b}_1)\\mathbf{W}_2 + \\mathbf{b}_2),\n",
        "\\end{equation}\n",
        "where $\\mathbf{x}$ is the input, $\\mathbf{W}_j$ are the weights of the neural network, $\\sigma_j$ the (nonlinear) activation functions, and $\\mathbf{b}_j$ its biases. The activation function introduces the nonlinearity and makes it possible to learn more complex tasks. Desirable properties in an activation function include being differentiable, bounded, and monotonic.\n",
        "\n",
        "\n",
        "Image source: [PragatiBaheti](https://www.v7labs.com/blog/neural-networks-activation-functions)\n",
        "<img src=\"https://github.com/junohjung/ai-science-training-series/blob/main/02_intro_neural_networks/images/activation.jpeg?raw=1\"  align=\"center\"/>\n",
        "\n",
        "Adding more layers to obtain a deep neural network:\n",
        "<img src=\"https://github.com/junohjung/ai-science-training-series/blob/main/02_intro_neural_networks/images/deep_nn_annotated.jpg?raw=1\"  align=\"left\"/>\n",
        "\n",
        "\n",
        "\n",
        "# Important things to know\n",
        "Deep Neural networks can be overly flexible/complicated and \"overfit\" your data, just like fitting overly complicated polynomials:\n",
        "<img src=\"https://github.com/junohjung/ai-science-training-series/blob/main/02_intro_neural_networks/images/bias_vs_variance.png?raw=1\"  align=\"left\"/>\n",
        "\n",
        "\n",
        "Vizualization wrt to the accuracy and loss (Image source: [Baeldung](https://www.baeldung.com/cs/ml-underfitting-overfitting)):\n",
        "<img src=\"https://github.com/junohjung/ai-science-training-series/blob/main/02_intro_neural_networks/images/acc_under_over.webp?raw=1\"  align=\"center\"/>\n",
        "\n",
        "\n",
        "To improve the generalization of our model on previously unseen data, we employ a technique known as regularization, which constrains our optimization problem in order to discourage complex models.\n",
        "\n",
        "  - Dropout is the commonly used regularization technique. The Dropout layer randomly sets input units to 0 with a frequency of rate at each step during training time, which helps prevent overfitting.\n",
        "  - Penalizing the loss function by adding a term such as $\\lambda ||\\mathbf{W}||^2$ is alsp a commonly used regularization technique. This helps \"control\" the magnitude of the weights of the network.\n",
        "    \n",
        "Vanishing gradients: Gradients become small as they propagate backward through the layers. Squashing activation functions like sigmoid or tanh could cause this.\n",
        "\n",
        "Exploding gradients: Gradients grow exponentially usually due to \"poor\" weight initialization.\n",
        "\n",
        "<!--  <img src=\"images/test_data_rule.png\" width=\"800\" hight=\"500\" align=\"center\"/>\n",
        "  -->"
      ]
    },
    {
      "cell_type": "markdown",
      "metadata": {
        "id": "WD0Zxt9K9DCN"
      },
      "source": [
        "We can now implement a deep network in PyTorch. nn.Dropout() performs the Dropout operation mentioned earlier"
      ]
    },
    {
      "cell_type": "code",
      "execution_count": 19,
      "metadata": {
        "id": "GEIPJkhP9DCN"
      },
      "outputs": [],
      "source": [
        "class NonlinearClassifier(nn.Module):\n",
        "\n",
        "    def __init__(self):\n",
        "        super().__init__()\n",
        "        self.flatten = nn.Flatten()\n",
        "        self.layers_stack = nn.Sequential(\n",
        "            nn.Linear(28*28, 50),\n",
        "            nn.Sigmoid(), #nn.ReLU(),\n",
        "            nn.Dropout(0.2),\n",
        "            nn.Linear(50, 50),\n",
        "            nn.Tanh(), #nn.ReLU(),\n",
        "            nn.Dropout(0.2),\n",
        "            nn.Linear(50, 50),\n",
        "            nn.ReLU(),\n",
        "            nn.Dropout(0.2),\n",
        "            nn.Linear(50, 10)\n",
        "        )\n",
        "            #nn.Linear(28*28, 50),\n",
        "            #nn.ReLU(),\n",
        "            #nn.Dropout(0.2),\n",
        "            #nn.Linear(50, 50),\n",
        "            #nn.ReLU(),\n",
        "            #nn.Dropout(0.2),\n",
        "            #nn.Linear(50, 50),\n",
        "            #nn.ReLU(),\n",
        "            #nn.Dropout(0.2),\n",
        "            #nn.Linear(50, 10)\n",
        "\n",
        "    def forward(self, x):\n",
        "        x = self.flatten(x)\n",
        "        x = self.layers_stack(x)\n",
        "\n",
        "        return x"
      ]
    },
    {
      "cell_type": "code",
      "execution_count": 20,
      "metadata": {
        "colab": {
          "base_uri": "https://localhost:8080/"
        },
        "id": "W8hUVY-A9DCO",
        "outputId": "c3e904ac-4889-4964-f26d-30d85c4aa6c1"
      },
      "outputs": [
        {
          "output_type": "stream",
          "name": "stdout",
          "text": [
            "NonlinearClassifier(\n",
            "  (flatten): Flatten(start_dim=1, end_dim=-1)\n",
            "  (layers_stack): Sequential(\n",
            "    (0): Linear(in_features=784, out_features=50, bias=True)\n",
            "    (1): Sigmoid()\n",
            "    (2): Dropout(p=0.2, inplace=False)\n",
            "    (3): Linear(in_features=50, out_features=50, bias=True)\n",
            "    (4): Tanh()\n",
            "    (5): Dropout(p=0.2, inplace=False)\n",
            "    (6): Linear(in_features=50, out_features=50, bias=True)\n",
            "    (7): ReLU()\n",
            "    (8): Dropout(p=0.2, inplace=False)\n",
            "    (9): Linear(in_features=50, out_features=10, bias=True)\n",
            "  )\n",
            ")\n",
            "<generator object Module.parameters at 0x7baa30da7920>\n"
          ]
        }
      ],
      "source": [
        "nonlinear_model = NonlinearClassifier()\n",
        "print(nonlinear_model)\n",
        "loss_fn = nn.CrossEntropyLoss()\n",
        "optimizer = torch.optim.SGD(nonlinear_model.parameters(), lr=0.3)\n",
        "print(nonlinear_model.parameters())"
      ]
    },
    {
      "cell_type": "code",
      "execution_count": 21,
      "metadata": {
        "colab": {
          "base_uri": "https://localhost:8080/"
        },
        "id": "lybuKmTo9DCO",
        "outputId": "243bcd1c-8582-4143-84b8-25cc99d13613"
      },
      "outputs": [
        {
          "output_type": "stream",
          "name": "stdout",
          "text": [
            "Epoch 0: training loss: 0.43434793066978455, accuracy: 87.36458333333333\n",
            "Epoch 0: val. loss: 0.4254337105345219, val. accuracy: 87.325\n",
            "Epoch 1: training loss: 0.30231634990374245, accuracy: 90.88333333333334\n",
            "Epoch 1: val. loss: 0.29290392598573195, val. accuracy: 91.025\n",
            "Epoch 2: training loss: 0.2474276161591212, accuracy: 92.58958333333334\n",
            "Epoch 2: val. loss: 0.23948859249023682, val. accuracy: 92.60000000000001\n",
            "Epoch 3: training loss: 0.217050435145696, accuracy: 93.4375\n",
            "Epoch 3: val. loss: 0.21108587553843539, val. accuracy: 93.54166666666667\n",
            "Epoch 4: training loss: 0.19595294790466627, accuracy: 94.05624999999999\n",
            "Epoch 4: val. loss: 0.19102982443539387, val. accuracy: 94.10833333333333\n",
            "Epoch 5: training loss: 0.18180141857266427, accuracy: 94.48541666666667\n",
            "Epoch 5: val. loss: 0.17996618127886285, val. accuracy: 94.45\n",
            "Epoch 6: training loss: 0.1601369674106439, accuracy: 95.1125\n",
            "Epoch 6: val. loss: 0.16207863097178174, val. accuracy: 95.16666666666667\n",
            "Epoch 7: training loss: 0.15044478257993857, accuracy: 95.46041666666667\n",
            "Epoch 7: val. loss: 0.15564130805432796, val. accuracy: 95.35833333333333\n",
            "Epoch 8: training loss: 0.14242753888169923, accuracy: 95.69583333333334\n",
            "Epoch 8: val. loss: 0.1480259292541032, val. accuracy: 95.43333333333334\n",
            "Epoch 9: training loss: 0.13290073150893053, accuracy: 95.94583333333333\n",
            "Epoch 9: val. loss: 0.14091516607143778, val. accuracy: 95.72500000000001\n",
            "CPU times: user 2min 27s, sys: 304 ms, total: 2min 27s\n",
            "Wall time: 2min 28s\n"
          ]
        }
      ],
      "source": [
        "%%time\n",
        "\n",
        "epochs = 10\n",
        "train_acc_all = []\n",
        "val_acc_all = []\n",
        "for j in range(epochs):\n",
        "    train_one_epoch(train_dataloader, nonlinear_model, loss_fn, optimizer)\n",
        "\n",
        "    # checking on the training loss and accuracy once per epoch\n",
        "    acc, loss = evaluate(train_dataloader, nonlinear_model, loss_fn)\n",
        "    train_acc_all.append(acc)\n",
        "    print(f\"Epoch {j}: training loss: {loss}, accuracy: {acc}\")\n",
        "\n",
        "    # checking on the validation loss and accuracy once per epoch\n",
        "    val_acc, val_loss = evaluate(val_dataloader, nonlinear_model, loss_fn)\n",
        "    val_acc_all.append(val_acc)\n",
        "    print(f\"Epoch {j}: val. loss: {val_loss}, val. accuracy: {val_acc}\")"
      ]
    },
    {
      "cell_type": "code",
      "execution_count": 22,
      "metadata": {
        "colab": {
          "base_uri": "https://localhost:8080/",
          "height": 867
        },
        "id": "uMd0dMYF9DCO",
        "outputId": "630852c1-e172-4047-d5ef-a34d94476935"
      },
      "outputs": [
        {
          "output_type": "execute_result",
          "data": {
            "text/plain": [
              "<matplotlib.legend.Legend at 0x7baa30232080>"
            ]
          },
          "metadata": {},
          "execution_count": 22
        },
        {
          "output_type": "display_data",
          "data": {
            "text/plain": [
              "<Figure size 1000x1000 with 1 Axes>"
            ],
            "image/png": "[encoded data removed]"
          },
          "metadata": {}
        }
      ],
      "source": [
        "pltsize=1\n",
        "plt.figure(figsize=(10*pltsize, 10 * pltsize))\n",
        "plt.plot(range(epochs), train_acc_all,label = 'Training Acc.' )\n",
        "plt.plot(range(epochs), val_acc_all, label = 'Validation Acc.' )\n",
        "plt.xlabel('Epoch #')\n",
        "plt.ylabel('Loss')\n",
        "plt.legend()"
      ]
    },
    {
      "cell_type": "code",
      "execution_count": 23,
      "metadata": {
        "colab": {
          "base_uri": "https://localhost:8080/",
          "height": 142
        },
        "id": "S7IxAGoF9DCP",
        "outputId": "8f8932a0-92f4-4e0b-9c1b-5f81bed157aa"
      },
      "outputs": [
        {
          "output_type": "stream",
          "name": "stdout",
          "text": [
            "Showing max 10 first failures. The predicted class is shown first and the correct class in parentheses.\n"
          ]
        },
        {
          "output_type": "display_data",
          "data": {
            "text/plain": [
              "<Figure size 1000x100 with 5 Axes>"
            ],
            "image/png": "[encoded data removed]"
          },
          "metadata": {}
        }
      ],
      "source": [
        "show_failures(nonlinear_model, test_dataloader)"
      ]
    },
    {
      "cell_type": "markdown",
      "metadata": {
        "id": "5wi4g8os9DCP"
      },
      "source": [
        "# Recap\n",
        "To train and validate a neural network model, you need:\n",
        "- Data split into training/validation/test sets,\n",
        "- A model with parameters to learn,\n",
        "- An appropriate loss function,\n",
        "- An optimizer (with tunable parameters such as learning rate, weight decay etc.) used to learn the parameters of the model.\n"
      ]
    },
    {
      "cell_type": "markdown",
      "metadata": {
        "id": "xaNy75uF9DCP"
      },
      "source": [
        "# Homework"
      ]
    },
    {
      "cell_type": "markdown",
      "metadata": {
        "id": "luACAOcx9DCP"
      },
      "source": [
        "1. Compare the quality of your model when using different:\n",
        " - batch sizes,\n",
        " - learning rates,\n",
        " - activation functions.\n",
        "\n",
        "3. Bonus: What is a learning rate scheduler?\n",
        "\n",
        "If you have time, experiment with how to improve the model. Note: training and validation data can be used to compare models, but test data should be saved until the end as a final check of generalization."
      ]
    },
    {
      "cell_type": "markdown",
      "source": [
        "Case 1) changing a batch size:\n",
        "\n",
        "A larger batch size tends to decrease the accuracy of both training and validation. However, increasing the number of epochs can lead to further improvements in accuracy."
      ],
      "metadata": {
        "id": "CtfYhH5RPeWB"
      }
    },
    {
      "cell_type": "markdown",
      "source": [
        "Batch size:32\n",
        "\n",
        "Epoch 0: training loss: 0.29131900386884807, accuracy: 91.525\n",
        "\n",
        "Epoch 0: val. loss: 0.2841597080429395, val. accuracy: 91.45833333333333\n",
        "\n",
        "Epoch 1: training loss: 0.18409809742371241, accuracy: 94.53958333333333\n",
        "\n",
        "Epoch 1: val. loss: 0.19084752556681633, val. accuracy: 94.25\n",
        "\n",
        "Epoch 2: training loss: 0.15294542299055805, accuracy: 95.40625\n",
        "\n",
        "Epoch 2: val. loss: 0.165590115668873, val. accuracy: 95.00833333333333\n",
        "\n",
        "Epoch 3: training loss: 0.11862136484667038, accuracy: 96.45625\n",
        "\n",
        "Epoch 3: val. loss: 0.13705157951141397, val. accuracy: 95.80833333333332\n",
        "\n",
        "Epoch 4: training loss: 0.11588265312532894, accuracy: 96.50416666666666\n",
        "\n",
        "Epoch 4: val. loss: 0.13722581070226927, val. accuracy: 95.96666666666667\n",
        "\n",
        "CPU times: user 1min 43s, sys: 256 ms, total: 1min 44s\n",
        "\n",
        "Wall time: 1min 44s"
      ],
      "metadata": {
        "id": "xz5L8nPfXoWZ"
      }
    },
    {
      "cell_type": "markdown",
      "source": [
        "Batch size:64\n",
        "\n",
        "Epoch 0: training loss: 0.6258238563537598, accuracy: 83.275\n",
        "\n",
        "Epoch 0: val. loss: 0.6197105801485955, val. accuracy: 82.875\n",
        "\n",
        "Epoch 1: training loss: 0.36681868465741474, accuracy: 89.58333333333334\n",
        "\n",
        "Epoch 1: val. loss: 0.3580862220297468, val. accuracy: 89.59166666666667\n",
        "\n",
        "Epoch 2: training loss: 0.27679769706726076, accuracy: 92.09166666666667\n",
        "\n",
        "Epoch 2: val. loss: 0.27044944179818986, val. accuracy: 91.975\n",
        "\n",
        "Epoch 3: training loss: 0.23461232008536656, accuracy: 93.18333333333332\n",
        "\n",
        "Epoch 3: val. loss: 0.23229535090479445, val. accuracy: 92.99166666666666\n",
        "\n",
        "Epoch 4: training loss: 0.20071764115492502, accuracy: 94.2125\n",
        "\n",
        "Epoch 4: val. loss: 0.20180098030795443, val. accuracy: 93.94166666666666\n",
        "\n",
        "CPU times: user 1min 20s, sys: 230 ms, total: 1min 20s\n",
        "\n",
        "Wall time: 1min 22s\n",
        "\n",
        "\n"
      ],
      "metadata": {
        "id": "_mK7T-M-Pmvn"
      }
    },
    {
      "cell_type": "markdown",
      "source": [
        "Batch size:128\n",
        "\n",
        "Epoch 0: training loss: 0.9381435205141704, accuracy: 73.70416666666667\n",
        "\n",
        "Epoch 0: val. loss: 0.9299069040633262, val. accuracy: 73.58333333333333\n",
        "\n",
        "Epoch 1: training loss: 0.4153559052149455, accuracy: 88.43958333333333\n",
        "\n",
        "Epoch 1: val. loss: 0.40775066360514217, val. accuracy: 88.5\n",
        "\n",
        "Epoch 2: training loss: 0.3237801838318507, accuracy: 90.85\n",
        "\n",
        "Epoch 2: val. loss: 0.3187925840945954, val. accuracy: 90.65833333333333\n",
        "\n",
        "Epoch 3: training loss: 0.263333734691143, accuracy: 92.44791666666666\n",
        "\n",
        "Epoch 3: val. loss: 0.2617023230550137, val. accuracy: 92.4\n",
        "\n",
        "Epoch 4: training loss: 0.22751247133811314, accuracy: 93.38333333333333\n",
        "\n",
        "Epoch 4: val. loss: 0.22953893664352437, val. accuracy: 93.18333333333332\n",
        "\n",
        "CPU times: user 1min 22s, sys: 234 ms, total: 1min 23s\n",
        "\n",
        "Wall time: 1min 24s\n"
      ],
      "metadata": {
        "id": "zwZAJQk8UKhU"
      }
    },
    {
      "cell_type": "markdown",
      "source": [
        "Batch size: 256\n",
        "\n",
        "Epoch 0: training loss: 0.6883666985829672, accuracy: 80.14375\n",
        "\n",
        "Epoch 0: val. loss: 0.6844882083700058, val. accuracy: 79.65\n",
        "\n",
        "Epoch 1: training loss: 0.3818241737683614, accuracy: 88.89166666666667\n",
        "\n",
        "Epoch 1: val. loss: 0.3753638118505478, val. accuracy: 89.05\n",
        "\n",
        "Epoch 2: training loss: 0.297781964023908, accuracy: 91.41458333333333\n",
        "\n",
        "Epoch 2: val. loss: 0.29112379474842803, val. accuracy: 91.60000000000001\n",
        "\n",
        "Epoch 3: training loss: 0.24593730445702872, accuracy: 92.875\n",
        "\n",
        "Epoch 3: val. loss: 0.2453317843536113, val. accuracy: 92.70833333333334\n",
        "\n",
        "Epoch 4: training loss: 0.2089225091934204, accuracy: 93.875\n",
        "\n",
        "Epoch 4: val. loss: 0.2114112250348355, val. accuracy: 93.65\n",
        "\n",
        "CPU times: user 1min 23s, sys: 216 ms, total: 1min 24s\n",
        "\n",
        "Wall time: 1min 24s"
      ],
      "metadata": {
        "id": "ut-0ISlLUHtq"
      }
    },
    {
      "cell_type": "markdown",
      "source": [
        "Case 2) changing learning rate"
      ],
      "metadata": {
        "id": "reqpzz-VeKg8"
      }
    },
    {
      "cell_type": "markdown",
      "source": [
        "Increasing learning rate when the batch size is 128\n",
        "\n",
        "**case 1: lr=0.05**\n",
        "\n",
        "Epoch 0: training loss: 0.7054495368003845, accuracy: 80.58125000000001\n",
        "\n",
        "Epoch 0: val. loss: 0.6976430504880053, val. accuracy: 80.23333333333333\n",
        "\n",
        "Epoch 1: training loss: 0.39384935518105824, accuracy: 88.91666666666667\n",
        "\n",
        "Epoch 1: val. loss: 0.38333532753142907, val. accuracy: 89.03333333333333\n",
        "\n",
        "Epoch 2: training loss: 0.3168396691083908, accuracy: 90.99791666666667\n",
        "\n",
        "Epoch 2: val. loss: 0.30668793824758933, val. accuracy: 90.95\n",
        "\n",
        "Epoch 3: training loss: 0.26911213290691377, accuracy: 92.16666666666666\n",
        "\n",
        "Epoch 3: val. loss: 0.26385345492274204, val. accuracy: 91.98333333333333\n",
        "\n",
        "Epoch 4: training loss: 0.23557254030307134, accuracy: 93.06458333333333\n",
        "\n",
        "Epoch 4: val. loss: 0.23513868673050659, val. accuracy: 92.81666666666666\n",
        "\n",
        "Epoch 5: training loss: 0.19646135606368384, accuracy: 94.27083333333334\n",
        "\n",
        "Epoch 5: val. loss: 0.19845211062025517, val. accuracy: 94.08333333333333\n",
        "\n",
        "Epoch 6: training loss: 0.17811596061786017, accuracy: 94.77083333333334\n",
        "\n",
        "Epoch 6: val. loss: 0.18287449876995795, val. accuracy: 94.43333333333334\n",
        "\n",
        "Epoch 7: training loss: 0.15860307662685713, accuracy: 95.4125\n",
        "\n",
        "Epoch 7: val. loss: 0.16560463171373022, val. accuracy: 94.95\n",
        "\n",
        "Epoch 8: training loss: 0.1470012096464634, accuracy: 95.73958333333333\n",
        "\n",
        "Epoch 8: val. loss: 0.15763748084452558, val. accuracy: 95.35833333333333\n",
        "\n",
        "Epoch 9: training loss: 0.13281818852821986, accuracy: 96.11041666666667\n",
        "\n",
        "Epoch 9: val. loss: 0.14512682603077687, val. accuracy: 95.75\n",
        "\n",
        "CPU times: user 2min 51s, sys: 436 ms, total: 2min 51s\n",
        "\n",
        "Wall time: 2min 54s\n",
        "\n",
        "**case 2: lr=0.1**\n",
        "\n",
        "Epoch 0: training loss: 0.42249138867855074, accuracy: 87.9375\n",
        "\n",
        "Epoch 0: val. loss: 0.4182213820675586, val. accuracy: 87.59166666666667\n",
        "\n",
        "Epoch 1: training loss: 0.27233588713407514, accuracy: 92.06458333333333\n",
        "\n",
        "Epoch 1: val. loss: 0.26649454331144373, val. accuracy: 91.78333333333333\n",
        "\n",
        "Epoch 2: training loss: 0.20216313660144805, accuracy: 94.07708333333333\n",
        "\n",
        "Epoch 2: val. loss: 0.19866923266585837, val. accuracy: 93.83333333333333\n",
        "\n",
        "Epoch 3: training loss: 0.162623608648777, accuracy: 95.18958333333333\n",
        "\n",
        "Epoch 3: val. loss: 0.16473303037755033, val. accuracy: 95.0\n",
        "\n",
        "Epoch 4: training loss: 0.1449021589756012, accuracy: 95.74166666666667\n",
        "\n",
        "Epoch 4: val. loss: 0.15292797499197594, val. accuracy: 95.375\n",
        "\n",
        "Epoch 5: training loss: 0.12268872735400994, accuracy: 96.42291666666667\n",
        "\n",
        "Epoch 5: val. loss: 0.13631316698453527, val. accuracy: 95.92500000000001\n",
        "\n",
        "Epoch 6: training loss: 0.10751236519217491, accuracy: 96.8625\n",
        "\n",
        "Epoch 6: val. loss: 0.1251274994079103, val. accuracy: 96.23333333333333\n",
        "\n",
        "Epoch 7: training loss: 0.10149870605270069, accuracy: 97.02083333333333\n",
        "\n",
        "Epoch 7: val. loss: 0.12504381165304718, val. accuracy: 96.26666666666667\n",
        "\n",
        "Epoch 8: training loss: 0.10177444050709407, accuracy: 96.95625\n",
        "\n",
        "Epoch 8: val. loss: 0.12256500899712457, val. accuracy: 96.29166666666666\n",
        "\n",
        "Epoch 9: training loss: 0.08529789289583763, accuracy: 97.48541666666667\n",
        "\n",
        "Epoch 9: val. loss: 0.1121811194820924, val. accuracy: 96.48333333333333\n",
        "\n",
        "CPU times: user 2min 45s, sys: 471 ms, total: 2min 46s\n",
        "\n",
        "Wall time: 2min 47s\n",
        "\n",
        "\n",
        "**case 3: lr=0.2**\n",
        "\n",
        "Epoch 0: training loss: 0.30787422092755634, accuracy: 90.43333333333334\n",
        "\n",
        "Epoch 0: val. loss: 0.30312057394296565, val. accuracy: 90.425\n",
        "\n",
        "Epoch 1: training loss: 0.1899070992867152, accuracy: 94.33541666666667\n",
        "\n",
        "Epoch 1: val. loss: 0.19753529725873725, val. accuracy: 94.09166666666667\n",
        "\n",
        "Epoch 2: training loss: 0.1416174286107222, accuracy: 95.71458333333334\n",
        "\n",
        "Epoch 2: val. loss: 0.15497982391017548, val. accuracy: 95.19999999999999\n",
        "\n",
        "Epoch 3: training loss: 0.13038782139619193, accuracy: 96.025\n",
        "\n",
        "Epoch 3: val. loss: 0.146780738448526, val. accuracy: 95.69166666666666\n",
        "\n",
        "Epoch 4: training loss: 0.10988345964252949, accuracy: 96.61458333333334\n",
        "\n",
        "Epoch 4: val. loss: 0.13384335995354552, val. accuracy: 95.94166666666666\n",
        "\n",
        "Epoch 5: training loss: 0.09641316247483095, accuracy: 97.10208333333334\n",
        "\n",
        "Epoch 5: val. loss: 0.11951003469368245, val. accuracy: 96.45\n",
        "\n",
        "Epoch 6: training loss: 0.0851337542682886, accuracy: 97.41666666666666\n",
        "\n",
        "Epoch 6: val. loss: 0.11780832155032996, val. accuracy: 96.42500000000001\n",
        "\n",
        "Epoch 7: training loss: 0.09208646741012733, accuracy: 97.17916666666667\n",
        "\n",
        "Epoch 7: val. loss: 0.12309837676188413, val. accuracy: 96.35833333333333\n",
        "\n",
        "Epoch 8: training loss: 0.08219975915799538, accuracy: 97.51875\n",
        "\n",
        "Epoch 8: val. loss: 0.11629172390762796, val. accuracy: 96.53333333333333\n",
        "\n",
        "Epoch 9: training loss: 0.07177605073153973, accuracy: 97.76666666666667\n",
        "\n",
        "Epoch 9: val. loss: 0.10600652860754982, val. accuracy: 96.99166666666666\n",
        "\n",
        "CPU times: user 2min 46s, sys: 445 ms, total: 2min 47s\n",
        "\n",
        "Wall time: 2min 49s\n"
      ],
      "metadata": {
        "id": "lAu5baT3gncd"
      }
    },
    {
      "cell_type": "markdown",
      "source": [
        "Case 3) changing actication functions\n",
        "\n",
        "Linear model vs nonlinear models\n",
        "\n",
        "Based on the workshop session, we learned that when the data is complex, it is encounraged to use nonlinear models.\n",
        "\n"
      ],
      "metadata": {
        "id": "I_F1m77eeOcT"
      }
    },
    {
      "cell_type": "markdown",
      "source": [
        "            batch size =128, lr=0.3\n",
        "            \n",
        "            nn.Linear(28*28, 50),\n",
        "            nn.ReLU(),\n",
        "            nn.Dropout(0.2),\n",
        "            nn.Linear(50, 50),\n",
        "            nn.ReLU(),\n",
        "            nn.Dropout(0.2),\n",
        "            nn.Linear(50, 50),\n",
        "            nn.ReLU(),\n",
        "            nn.Dropout(0.2),\n",
        "            nn.Linear(50, 10)"
      ],
      "metadata": {
        "id": "dOM4TtehiJjF"
      }
    },
    {
      "cell_type": "markdown",
      "source": [
        "Epoch 0: training loss: 0.26729255012671155, accuracy: 92.14375\n",
        "\n",
        "Epoch 0: val. loss: 0.2640840817005076, val. accuracy: 91.94166666666666\n",
        "\n",
        "Epoch 1: training loss: 0.18869464746117592, accuracy: 94.47916666666667\n",
        "\n",
        "Epoch 1: val. loss: 0.19057613413067573, val. accuracy: 94.24166666666667\n",
        "\n",
        "Epoch 2: training loss: 0.1497707671970129, accuracy: 95.68541666666667\n",
        "\n",
        "Epoch 2: val. loss: 0.15608188018519828, val. accuracy: 95.26666666666667\n",
        "\n",
        "Epoch 3: training loss: 0.158395018607378, accuracy: 95.275\n",
        "\n",
        "Epoch 3: val. loss: 0.16640863436809245, val. accuracy: 95.15833333333333\n",
        "\n",
        "Epoch 4: training loss: 0.1172935082167387, accuracy: 96.51666666666667\n",
        "\n",
        "Epoch 4: val. loss: 0.13357398173514198, val. accuracy: 96.04166666666667\n",
        "\n",
        "Epoch 5: training loss: 0.10673859466115633, accuracy: 96.83958333333334\n",
        "\n",
        "Epoch 5: val. loss: 0.12645901725726558, val. accuracy: 96.21666666666667\n",
        "\n",
        "Epoch 6: training loss: 0.10672907103101413, accuracy: 96.73958333333333\n",
        "\n",
        "Epoch 6: val. loss: 0.13441027039067543, val. accuracy: 96.05\n",
        "\n",
        "Epoch 7: training loss: 0.09520059526711702, accuracy: 97.13333333333334\n",
        "\n",
        "Epoch 7: val. loss: 0.12319129336863122, val. accuracy: 96.50833333333333\n",
        "\n",
        "Epoch 8: training loss: 0.0915482457006971, accuracy: 97.25208333333333\n",
        "\n",
        "Epoch 8: val. loss: 0.12184755557632827, val. accuracy: 96.51666666666667\n",
        "\n",
        "Epoch 9: training loss: 0.08303700684756041, accuracy: 97.49166666666666\n",
        "\n",
        "Epoch 9: val. loss: 0.11703302026627228, val. accuracy: 96.54166666666667\n",
        "\n",
        "CPU times: user 2min 32s, sys: 337 ms, total: 2min 32s\n",
        "\n",
        "Wall time: 2min 33s"
      ],
      "metadata": {
        "id": "dK_swLw7h-SA"
      }
    },
    {
      "cell_type": "markdown",
      "source": [
        "The dropout which is for regularization works for improvement of the accuracy."
      ],
      "metadata": {
        "id": "QkE-BDrkiYCf"
      }
    },
    {
      "cell_type": "markdown",
      "source": [
        "batch_size=128 lr=0.3\n",
        "\n",
        "            nn.Linear(28*28, 50),\n",
        "            nn.Sigmoid(), #nn.ReLU(),\n",
        "            nn.Dropout(0.2),\n",
        "            nn.Linear(50, 50),\n",
        "\n",
        "\n",
        "Epoch 0: training loss: 0.44581544494628905, accuracy: 88.61666666666666\n",
        "\n",
        "Epoch 0: val. loss: 0.43788369602345406, val. accuracy: 88.66666666666667\n",
        "\n",
        "Epoch 1: training loss: 0.33875611062844596, accuracy: 90.55625\n",
        "\n",
        "Epoch 1: val. loss: 0.3288847815166128, val. accuracy: 90.7\n",
        "\n",
        "Epoch 2: training loss: 0.2974626346826553, accuracy: 91.64375\n",
        "\n",
        "Epoch 2: val. loss: 0.2877089924951817, val. accuracy: 91.59166666666667\n",
        "\n",
        "Epoch 3: training loss: 0.270755511879921, accuracy: 92.35833333333333\n",
        "\n",
        "Epoch 3: val. loss: 0.262733333922447, val. accuracy: 92.25\n",
        "\n",
        "Epoch 4: training loss: 0.2507853065331777, accuracy: 92.85416666666667\n",
        "\n",
        "Epoch 4: val. loss: 0.24446749338444243, val. accuracy: 92.76666666666667\n",
        "\n",
        "Epoch 5: training loss: 0.23335377138853072, accuracy: 93.36041666666667\n",
        "\n",
        "Epoch 5: val. loss: 0.2287518858434038, val. accuracy: 93.175\n",
        "\n",
        "Epoch 6: training loss: 0.21995131558179856, accuracy: 93.68958333333333\n",
        "\n",
        "Epoch 6: val. loss: 0.216792928332344, val. accuracy: 93.525\n",
        "\n",
        "Epoch 7: training loss: 0.2062664137283961, accuracy: 94.15625\n",
        "\n",
        "Epoch 7: val. loss: 0.2044300415572968, val. accuracy: 93.89166666666667\n",
        "\n",
        "Epoch 8: training loss: 0.19641785301764805, accuracy: 94.42291666666667\n",
        "\n",
        "Epoch 8: val. loss: 0.1958484008432703, val. accuracy: 94.18333333333334\n",
        "\n",
        "Epoch 9: training loss: 0.18750431855519611, accuracy: 94.66458333333333\n",
        "\n",
        "Epoch 9: val. loss: 0.1881109189955478, val. accuracy: 94.375\n",
        "\n",
        "CPU times: user 2min 30s, sys: 336 ms, total: 2min 30s\n",
        "\n",
        "Wall time: 2min 31s"
      ],
      "metadata": {
        "id": "i8QdDDIGlW6m"
      }
    },
    {
      "cell_type": "markdown",
      "source": [
        "When the layer become simple, then the accuracy become less.\n",
        "Also, I noticed that if there is no linear actuation function at the last step, the accuracy is very poor. The appropriate use of the activation functions are important. How to choose needs to be investigated...."
      ],
      "metadata": {
        "id": "z8slNpuHlp_v"
      }
    }
  ],
  "metadata": {
    "kernelspec": {
      "display_name": "Python 3 (ipykernel)",
      "language": "python",
      "name": "python3"
    },
    "language_info": {
      "codemirror_mode": {
        "name": "ipython",
        "version": 3
      },
      "file_extension": ".py",
      "mimetype": "text/x-python",
      "name": "python",
      "nbconvert_exporter": "python",
      "pygments_lexer": "ipython3",
      "version": "3.7.4"
    },
    "colab": {
      "provenance": [],
      "include_colab_link": true
    }
  },
  "nbformat": 4,
  "nbformat_minor": 0
}