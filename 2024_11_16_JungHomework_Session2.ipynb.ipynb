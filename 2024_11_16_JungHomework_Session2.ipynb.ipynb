{
  "cells": [
    {
      "cell_type": "markdown",
      "metadata": {
        "id": "view-in-github",
        "colab_type": "text"
      },
      "source": [
        "<a href=\"https://colab.research.google.com/github/junohjung/ai-science-training-series/blob/main/2024_11_16_JungHomework_Session2.ipynb.ipynb\" target=\"_parent\"><img src=\"https://colab.research.google.com/assets/colab-badge.svg\" alt=\"Open In Colab\"/></a>"
      ]
    },
    {
      "cell_type": "markdown",
      "metadata": {
        "id": "CH6C-uUw9DB8"
      },
      "source": [
        "# Introduction to Neural Networks\n",
        "Author: Marieme Ngom, adapting materials from Bethany Lusch, Asad Khan, Prasanna Balaprakash, Taylor Childers, Corey Adams, Kyle Felker, and Tanwi Mallick.\n",
        "\n",
        "This tutorial will serve as a gentle introduction to neural networks and deep learning through a hands-on classification problem using the MNIST dataset.\n",
        "\n",
        "In particular, we will introduce neural networks and how to train and improve their learning capabilities.  We will use the PyTorch Python library.\n",
        "\n",
        "The [MNIST dataset](http://yann.lecun.com/exdb/mnist/) contains thousands of examples of handwritten numbers, with each digit labeled 0-9.\n",
        "<img src=\"https://github.com/junohjung/ai-science-training-series/blob/main/02_intro_neural_networks/images/mnist_task.png?raw=1\"  align=\"left\"/>\n",
        "\n"
      ]
    },
    {
      "cell_type": "code",
      "execution_count": null,
      "metadata": {
        "id": "HwZgVctI9DCA"
      },
      "outputs": [],
      "source": [
        "%matplotlib inline\n",
        "\n",
        "import torch\n",
        "import torchvision\n",
        "from torch import nn\n",
        "\n",
        "import numpy\n",
        "import matplotlib.pyplot as plt\n",
        "import time"
      ]
    },
    {
      "cell_type": "markdown",
      "metadata": {
        "id": "lQF4uwvo9DCC"
      },
      "source": [
        "## The MNIST dataset\n",
        "\n",
        "We will now download the dataset that contains handwritten digits. MNIST is a popular dataset, so we can download it via the PyTorch library. Note:\n",
        "- x is for the inputs (images of handwritten digits) and y is for the labels or outputs (digits 0-9)\n",
        "- We are given \"training\" and \"test\" datasets. Training datasets are used to fit the model. Test datasets are saved until the end, when we are satisfied with our model, to estimate how well our model generalizes to new data.\n",
        "\n",
        "Note that downloading it the first time might take some time.\n",
        "The data is split as follows:\n",
        "- 60,000 training examples, 10,000 test examples\n",
        "- inputs: 1 x 28 x 28 pixels\n",
        "- outputs (labels): one integer per example"
      ]
    },
    {
      "cell_type": "code",
      "execution_count": null,
      "metadata": {
        "colab": {
          "base_uri": "https://localhost:8080/"
        },
        "id": "5-8FrrMn9DCD",
        "outputId": "53b01268-9567-4b47-92ab-f49d02940546"
      },
      "outputs": [
        {
          "output_type": "stream",
          "name": "stdout",
          "text": [
            "Downloading http://yann.lecun.com/exdb/mnist/train-images-idx3-ubyte.gz\n",
            "Failed to download (trying next):\n",
            "HTTP Error 403: Forbidden\n",
            "\n",
            "Downloading https://ossci-datasets.s3.amazonaws.com/mnist/train-images-idx3-ubyte.gz\n",
            "Downloading https://ossci-datasets.s3.amazonaws.com/mnist/train-images-idx3-ubyte.gz to data/MNIST/raw/train-images-idx3-ubyte.gz\n"
          ]
        },
        {
          "output_type": "stream",
          "name": "stderr",
          "text": [
            "100%|██████████| 9.91M/9.91M [00:00<00:00, 37.0MB/s]\n"
          ]
        },
        {
          "output_type": "stream",
          "name": "stdout",
          "text": [
            "Extracting data/MNIST/raw/train-images-idx3-ubyte.gz to data/MNIST/raw\n",
            "\n",
            "Downloading http://yann.lecun.com/exdb/mnist/train-labels-idx1-ubyte.gz\n",
            "Failed to download (trying next):\n",
            "HTTP Error 403: Forbidden\n",
            "\n",
            "Downloading https://ossci-datasets.s3.amazonaws.com/mnist/train-labels-idx1-ubyte.gz\n",
            "Downloading https://ossci-datasets.s3.amazonaws.com/mnist/train-labels-idx1-ubyte.gz to data/MNIST/raw/train-labels-idx1-ubyte.gz\n"
          ]
        },
        {
          "output_type": "stream",
          "name": "stderr",
          "text": [
            "100%|██████████| 28.9k/28.9k [00:00<00:00, 1.17MB/s]"
          ]
        },
        {
          "output_type": "stream",
          "name": "stdout",
          "text": [
            "Extracting data/MNIST/raw/train-labels-idx1-ubyte.gz to data/MNIST/raw\n",
            "\n",
            "Downloading http://yann.lecun.com/exdb/mnist/t10k-images-idx3-ubyte.gz\n"
          ]
        },
        {
          "output_type": "stream",
          "name": "stderr",
          "text": [
            "\n"
          ]
        },
        {
          "output_type": "stream",
          "name": "stdout",
          "text": [
            "Failed to download (trying next):\n",
            "HTTP Error 403: Forbidden\n",
            "\n",
            "Downloading https://ossci-datasets.s3.amazonaws.com/mnist/t10k-images-idx3-ubyte.gz\n",
            "Downloading https://ossci-datasets.s3.amazonaws.com/mnist/t10k-images-idx3-ubyte.gz to data/MNIST/raw/t10k-images-idx3-ubyte.gz\n"
          ]
        },
        {
          "output_type": "stream",
          "name": "stderr",
          "text": [
            "100%|██████████| 1.65M/1.65M [00:00<00:00, 9.81MB/s]\n"
          ]
        },
        {
          "output_type": "stream",
          "name": "stdout",
          "text": [
            "Extracting data/MNIST/raw/t10k-images-idx3-ubyte.gz to data/MNIST/raw\n",
            "\n",
            "Downloading http://yann.lecun.com/exdb/mnist/t10k-labels-idx1-ubyte.gz\n",
            "Failed to download (trying next):\n",
            "HTTP Error 403: Forbidden\n",
            "\n",
            "Downloading https://ossci-datasets.s3.amazonaws.com/mnist/t10k-labels-idx1-ubyte.gz\n",
            "Downloading https://ossci-datasets.s3.amazonaws.com/mnist/t10k-labels-idx1-ubyte.gz to data/MNIST/raw/t10k-labels-idx1-ubyte.gz\n"
          ]
        },
        {
          "output_type": "stream",
          "name": "stderr",
          "text": [
            "100%|██████████| 4.54k/4.54k [00:00<00:00, 1.55MB/s]"
          ]
        },
        {
          "output_type": "stream",
          "name": "stdout",
          "text": [
            "Extracting data/MNIST/raw/t10k-labels-idx1-ubyte.gz to data/MNIST/raw\n",
            "\n"
          ]
        },
        {
          "output_type": "stream",
          "name": "stderr",
          "text": [
            "\n"
          ]
        }
      ],
      "source": [
        "training_data = torchvision.datasets.MNIST(\n",
        "    root=\"data\",\n",
        "    train=True,\n",
        "    download=True,\n",
        "    transform=torchvision.transforms.ToTensor()\n",
        ")\n",
        "\n",
        "test_data = torchvision.datasets.MNIST(\n",
        "    root=\"data\",\n",
        "    train=False,\n",
        "    download=True,\n",
        "    transform=torchvision.transforms.ToTensor()\n",
        ")"
      ]
    },
    {
      "cell_type": "code",
      "execution_count": null,
      "metadata": {
        "id": "ZxLY-GFk9DCE"
      },
      "outputs": [],
      "source": [
        "train_size = int(0.8 * len(training_data))  # 80% for training\n",
        "val_size = len(training_data) - train_size  # Remaining 20% for validation\n",
        "training_data, validation_data = torch.utils.data.random_split(training_data, [train_size, val_size], generator=torch.Generator().manual_seed(55))"
      ]
    },
    {
      "cell_type": "code",
      "execution_count": null,
      "metadata": {
        "colab": {
          "base_uri": "https://localhost:8080/"
        },
        "id": "BOTze4K89DCE",
        "outputId": "499c074e-cf16-45f6-ade3-145395e9834b"
      },
      "outputs": [
        {
          "output_type": "stream",
          "name": "stdout",
          "text": [
            "MNIST data loaded: train: 48000  examples, validation:  12000 examples, test: 10000 examples\n",
            "Input shape torch.Size([1, 28, 28])\n"
          ]
        }
      ],
      "source": [
        "print('MNIST data loaded: train:',len(training_data),' examples, validation: ', len(validation_data), 'examples, test:',len(test_data), 'examples')\n",
        "print('Input shape', training_data[0][0].shape)"
      ]
    },
    {
      "cell_type": "markdown",
      "metadata": {
        "id": "nBAIqY2A9DCF"
      },
      "source": [
        "Let's take a closer look. Here are the first 10 training digits:"
      ]
    },
    {
      "cell_type": "code",
      "execution_count": null,
      "metadata": {
        "colab": {
          "base_uri": "https://localhost:8080/",
          "height": 125
        },
        "id": "l7rV18O09DCF",
        "outputId": "99ce265c-171a-4666-99f4-6c79ce18743a"
      },
      "outputs": [
        {
          "output_type": "display_data",
          "data": {
            "text/plain": [
              "<Figure size 1000x100 with 10 Axes>"
            ],
            "image/png": "[encoded data removed]"
          },
          "metadata": {}
        }
      ],
      "source": [
        "pltsize=1\n",
        "plt.figure(figsize=(10*pltsize, pltsize))\n",
        "\n",
        "for i in range(10):\n",
        "    plt.subplot(1,10,i+1)\n",
        "    plt.axis('off')\n",
        "    plt.imshow(numpy.reshape(training_data[i][0], (28, 28)), cmap=\"gray\")\n",
        "    plt.title('Class: '+str(training_data[i][1]))"
      ]
    },
    {
      "cell_type": "markdown",
      "metadata": {
        "id": "h0mFi4dr9DCF"
      },
      "source": [
        "# Generalities:\n",
        "To train our classifier, we need (besides the data):\n",
        "- A model that depend on parameters $\\mathbf{\\theta}$. Here we are going to use neural networks.\n",
        "- A loss function $J(\\mathbf{\\theta})$ to measure the capabilities of the model.\n",
        "- An optimization method."
      ]
    },
    {
      "cell_type": "markdown",
      "metadata": {
        "id": "Y2o9ERO19DCG"
      },
      "source": [
        "# Linear Model\n",
        "Let's begin with a simple linear model: linear regression, like last week.\n",
        "We add one complication: each example is a vector (flattened image), so the \"slope\" multiplication becomes a dot product. If the target output is a vector as well, then the multiplication becomes matrix multiplication.\n",
        "\n",
        "Note, like before, we consider multiple examples at once, adding another dimension to the input.\n",
        "\n",
        "\n",
        " <img src=\"https://github.com/junohjung/ai-science-training-series/blob/main/02_intro_neural_networks/images/LinearModel_1.png?raw=1\"  align=\"center\"/>\n",
        "\n",
        "\n",
        "\n",
        "The linear layers in PyTorch perform a basic $xW + b$. These \"fully connected\" layers connect each input to each output with some weight parameter. We wouldn't expect a simple linear model $f(x) = xW+b$ directly outputting the class label and minimizing mean squared error to work well - the model would output labels like 3.55 and 2.11 instead of skipping to integers."
      ]
    },
    {
      "cell_type": "markdown",
      "metadata": {
        "id": "CmBUu99a9DCG"
      },
      "source": [
        "We now need:\n",
        "- A loss function $J(\\theta)$ where $\\theta$ is the list of parameters (here W and b). Last week, we used mean squared error (MSE), but this week let's make two changes that make more sense for classification:\n",
        "    - Change the output to be a length-10 vector of class probabilities (0 to 1, adding to 1).\n",
        "    - Cross entropy as the loss function, which is typical for classification. You can read more [here](https://gombru.github.io/2018/05/23/cross_entropy_loss/).\n",
        "\n",
        "- An optimization method or optimizer such as the stochastic gradient descent (sgd) method, the Adam optimizer, RMSprop, Adagrad etc. Let's start with stochastic gradient descent (sgd), like last week. For far more information about more advanced optimizers than basic SGD, with some cool animations, see https://ruder.io/optimizing-gradient-descent/ or https://distill.pub/2017/momentum/.\n",
        "\n",
        "- A learning rate. As we learned last week, the learning rate controls how far we move during each step."
      ]
    },
    {
      "cell_type": "code",
      "execution_count": null,
      "metadata": {
        "id": "ILFqKDuU9DCH"
      },
      "outputs": [],
      "source": [
        "class LinearClassifier(nn.Module):\n",
        "\n",
        "    def __init__(self):\n",
        "        super().__init__()\n",
        "\n",
        "        # First, we need to convert the input image to a vector by using\n",
        "        # nn.Flatten(). For MNIST, it means the second dimension 28*28 becomes 784.\n",
        "        self.flatten = nn.Flatten()\n",
        "\n",
        "        # Here, we add a fully connected (\"dense\") layer that has 28 x 28 = 784 input nodes\n",
        "        #(one for each pixel in the input image) and 10 output nodes (for probabilities of each class).\n",
        "        self.layer_1 = nn.Linear(28*28, 10)\n",
        "\n",
        "    def forward(self, x):\n",
        "\n",
        "        x = self.flatten(x)\n",
        "        x = self.layer_1(x)\n",
        "\n",
        "        return x"
      ]
    },
    {
      "cell_type": "code",
      "execution_count": null,
      "metadata": {
        "colab": {
          "base_uri": "https://localhost:8080/"
        },
        "id": "5Utdy4Mj9DCH",
        "outputId": "8bb89980-0d61-4409-8fd8-860c89420897"
      },
      "outputs": [
        {
          "output_type": "stream",
          "name": "stdout",
          "text": [
            "LinearClassifier(\n",
            "  (flatten): Flatten(start_dim=1, end_dim=-1)\n",
            "  (layer_1): Linear(in_features=784, out_features=10, bias=True)\n",
            ")\n"
          ]
        }
      ],
      "source": [
        "linear_model = LinearClassifier()\n",
        "print(linear_model)\n",
        "\n",
        "loss_fn = nn.CrossEntropyLoss()\n",
        "optimizer = torch.optim.SGD(linear_model.parameters(), lr=0.3)"
      ]
    },
    {
      "cell_type": "markdown",
      "metadata": {
        "id": "z8zqoH9F9DCI"
      },
      "source": [
        "# Learning\n",
        "Now we are ready to train our first model. A training step is comprised of:\n",
        "- A forward pass: the input is passed through the network\n",
        "- Backpropagation: A backward pass to compute the gradient $\\frac{\\partial J}{\\partial \\mathbf{W}}$ of the loss function with respect to the parameters of the network.\n",
        "- Weight updates $\\mathbf{W} = \\mathbf{W} - \\alpha \\frac{\\partial J}{\\partial \\mathbf{W}} $ where $\\alpha$ is the learning rate.\n",
        "\n",
        "How many steps do we take?\n",
        "- The batch size corresponds to the number of training examples in one pass (forward + backward). A smaller batch size allows the model to learn from individual examples but takes longer to train. A larger batch size requires fewer steps but may result in the model not capturing the nuances in the data. The higher the batch size, the more memory you will require.  \n",
        "- An epoch means one pass through the whole training data (looping over the batches). Using few epochs can lead to underfitting and using too many can lead to overfitting.\n",
        "- The choice of batch size and learning rate are important for performance, generalization and accuracy in deep learning.\n",
        "\n",
        "\n",
        "\n",
        "\n"
      ]
    },
    {
      "cell_type": "code",
      "execution_count": null,
      "metadata": {
        "id": "kGCMHJOo9DCI"
      },
      "outputs": [],
      "source": [
        "batch_size = 128\n",
        "\n",
        "# The dataloader makes our dataset iterable\n",
        "train_dataloader = torch.utils.data.DataLoader(training_data, batch_size=batch_size)\n",
        "val_dataloader = torch.utils.data.DataLoader(validation_data, batch_size=batch_size)"
      ]
    },
    {
      "cell_type": "code",
      "execution_count": null,
      "metadata": {
        "id": "vzMii8dq9DCJ"
      },
      "outputs": [],
      "source": [
        "def train_one_epoch(dataloader, model, loss_fn, optimizer):\n",
        "    model.train()\n",
        "    for batch, (X, y) in enumerate(dataloader):\n",
        "        # forward pass\n",
        "        pred = model(X)\n",
        "        loss = loss_fn(pred, y)\n",
        "\n",
        "        # backward pass calculates gradients\n",
        "        loss.backward()\n",
        "\n",
        "        # take one step with these gradients\n",
        "        optimizer.step()\n",
        "\n",
        "        # resets the gradients\n",
        "        optimizer.zero_grad()"
      ]
    },
    {
      "cell_type": "code",
      "execution_count": null,
      "metadata": {
        "id": "uUaWQw2f9DCJ"
      },
      "outputs": [],
      "source": [
        "def evaluate(dataloader, model, loss_fn):\n",
        "    # Set the model to evaluation mode - some NN pieces behave differently during training\n",
        "    # Unnecessary in this situation but added for best practices\n",
        "    model.eval()\n",
        "    size = len(dataloader.dataset)\n",
        "    num_batches = len(dataloader)\n",
        "    loss, correct = 0, 0\n",
        "\n",
        "    # We can save computation and memory by not calculating gradients here - we aren't optimizing\n",
        "    with torch.no_grad():\n",
        "        # loop over all of the batches\n",
        "        for X, y in dataloader:\n",
        "            pred = model(X)\n",
        "            loss += loss_fn(pred, y).item()\n",
        "            # how many are correct in this batch? Tracking for accuracy\n",
        "            correct += (pred.argmax(1) == y).type(torch.float).sum().item()\n",
        "\n",
        "    loss /= num_batches\n",
        "    correct /= size\n",
        "\n",
        "    accuracy = 100*correct\n",
        "    return accuracy, loss"
      ]
    },
    {
      "cell_type": "code",
      "execution_count": null,
      "metadata": {
        "colab": {
          "base_uri": "https://localhost:8080/"
        },
        "id": "_JxMtWcN9DCK",
        "outputId": "d0fabbc4-4361-4ca1-e905-de94a8027069"
      },
      "outputs": [
        {
          "output_type": "stream",
          "name": "stdout",
          "text": [
            "Epoch 0: training loss: 0.3509347072839737, accuracy: 90.4375\n",
            "Epoch 0: val. loss: 0.33946207609582457, val. accuracy: 90.4\n",
            "Epoch 1: training loss: 0.32003514417012535, accuracy: 91.2\n",
            "Epoch 1: val. loss: 0.309856190326366, val. accuracy: 91.21666666666667\n",
            "Epoch 2: training loss: 0.3057108025550842, accuracy: 91.61041666666667\n",
            "Epoch 2: val. loss: 0.2970297376209117, val. accuracy: 91.58333333333334\n",
            "Epoch 3: training loss: 0.2968129822810491, accuracy: 91.84375\n",
            "Epoch 3: val. loss: 0.2895718773311757, val. accuracy: 91.81666666666666\n",
            "Epoch 4: training loss: 0.2905036486585935, accuracy: 92.0125\n",
            "Epoch 4: val. loss: 0.28462145192191957, val. accuracy: 91.93333333333334\n",
            "CPU times: user 1min 15s, sys: 340 ms, total: 1min 16s\n",
            "Wall time: 1min 26s\n"
          ]
        }
      ],
      "source": [
        "%%time\n",
        "\n",
        "epochs = 5\n",
        "train_acc_all = []\n",
        "val_acc_all = []\n",
        "for j in range(epochs):\n",
        "    train_one_epoch(train_dataloader, linear_model, loss_fn, optimizer)\n",
        "\n",
        "    # checking on the training loss and accuracy once per epoch\n",
        "    acc, loss = evaluate(train_dataloader, linear_model, loss_fn)\n",
        "    train_acc_all.append(acc)\n",
        "    print(f\"Epoch {j}: training loss: {loss}, accuracy: {acc}\")\n",
        "\n",
        "    # checking on the validation loss and accuracy once per epoch\n",
        "    val_acc, val_loss = evaluate(val_dataloader, linear_model, loss_fn)\n",
        "    val_acc_all.append(val_acc)\n",
        "    print(f\"Epoch {j}: val. loss: {val_loss}, val. accuracy: {val_acc}\")"
      ]
    },
    {
      "cell_type": "code",
      "execution_count": null,
      "metadata": {
        "colab": {
          "base_uri": "https://localhost:8080/",
          "height": 867
        },
        "id": "KRVXDVWF9DCK",
        "outputId": "dd0189e6-0b3f-4728-9ece-e1255dcd3bb6"
      },
      "outputs": [
        {
          "output_type": "execute_result",
          "data": {
            "text/plain": [
              "<matplotlib.legend.Legend at 0x7fa2342a9de0>"
            ]
          },
          "metadata": {},
          "execution_count": 12
        },
        {
          "output_type": "display_data",
          "data": {
            "text/plain": [
              "<Figure size 1000x1000 with 1 Axes>"
            ],
            "image/png": "[encoded data removed]"
          },
          "metadata": {}
        }
      ],
      "source": [
        "pltsize=1\n",
        "plt.figure(figsize=(10*pltsize, 10 * pltsize))\n",
        "plt.plot(range(epochs), train_acc_all,label = 'Training Acc.' )\n",
        "plt.plot(range(epochs), val_acc_all, label = 'Validation Acc.' )\n",
        "plt.xlabel('Epoch #')\n",
        "plt.ylabel('Loss')\n",
        "plt.legend()"
      ]
    },
    {
      "cell_type": "code",
      "execution_count": null,
      "metadata": {
        "colab": {
          "base_uri": "https://localhost:8080/",
          "height": 125
        },
        "id": "6UQfwT9_9DCK",
        "outputId": "30e491d5-c51d-4d58-e73a-36a6b2382eaf"
      },
      "outputs": [
        {
          "output_type": "display_data",
          "data": {
            "text/plain": [
              "<Figure size 1000x100 with 10 Axes>"
            ],
            "image/png": "[encoded data removed]"
          },
          "metadata": {}
        }
      ],
      "source": [
        "# Visualize how the model is doing on the first 10 examples\n",
        "pltsize=1\n",
        "plt.figure(figsize=(10*pltsize, pltsize))\n",
        "linear_model.eval()\n",
        "batch = next(iter(train_dataloader))\n",
        "predictions = linear_model(batch[0])\n",
        "\n",
        "for i in range(10):\n",
        "    plt.subplot(1,10,i+1)\n",
        "    plt.axis('off')\n",
        "    plt.imshow(batch[0][i,0,:,:], cmap=\"gray\")\n",
        "    plt.title('%d' % predictions[i,:].argmax())"
      ]
    },
    {
      "cell_type": "markdown",
      "metadata": {
        "id": "ghyCj11k9DCL"
      },
      "source": [
        "Exercise: How can you improve the accuracy? Some things you might consider: increasing the number of epochs, changing the learning rate, etc."
      ]
    },
    {
      "cell_type": "markdown",
      "metadata": {
        "id": "yn1Edcu69DCL"
      },
      "source": [
        "# Prediction\n",
        "\n",
        "Let's see how our model generalizes to the unseen test data.\n",
        "\n"
      ]
    },
    {
      "cell_type": "code",
      "execution_count": null,
      "metadata": {
        "id": "PM683kIl9DCL"
      },
      "outputs": [],
      "source": [
        "#create dataloader for test data\n",
        "# The dataloader makes our dataset iterable\n",
        "batch_size_test = 128\n",
        "test_dataloader = torch.utils.data.DataLoader(test_data, batch_size=batch_size_test)"
      ]
    },
    {
      "cell_type": "code",
      "execution_count": null,
      "metadata": {
        "colab": {
          "base_uri": "https://localhost:8080/"
        },
        "id": "ma_UcwdU9DCL",
        "outputId": "ce6f48cd-ce3d-4ab0-e563-b662b2acd2b1"
      },
      "outputs": [
        {
          "output_type": "stream",
          "name": "stdout",
          "text": [
            "Test loss: 0.2850, test accuracy: 92.11%\n"
          ]
        }
      ],
      "source": [
        "acc_test, loss_test = evaluate(test_dataloader, linear_model, loss_fn)\n",
        "print(\"Test loss: %.4f, test accuracy: %.2f%%\" % (loss_test, acc_test))"
      ]
    },
    {
      "cell_type": "markdown",
      "metadata": {
        "id": "oUe_bGoE9DCL"
      },
      "source": [
        "We can now take a closer look at the results.\n",
        "\n",
        "Let's define a helper function to show the failure cases of our classifier."
      ]
    },
    {
      "cell_type": "code",
      "execution_count": null,
      "metadata": {
        "id": "H_imDZKI9DCL"
      },
      "outputs": [],
      "source": [
        "def show_failures(model, dataloader, maxtoshow=10):\n",
        "    model.eval()\n",
        "    batch = next(iter(dataloader))\n",
        "    predictions = model(batch[0])\n",
        "\n",
        "    rounded = predictions.argmax(1)\n",
        "    errors = rounded!=batch[1]\n",
        "    print('Showing max', maxtoshow, 'first failures. '\n",
        "          'The predicted class is shown first and the correct class in parentheses.')\n",
        "    ii = 0\n",
        "    plt.figure(figsize=(maxtoshow, 1))\n",
        "    for i in range(batch[0].shape[0]):\n",
        "        if ii>=maxtoshow:\n",
        "            break\n",
        "        if errors[i]:\n",
        "            plt.subplot(1, maxtoshow, ii+1)\n",
        "            plt.axis('off')\n",
        "            plt.imshow(batch[0][i,0,:,:], cmap=\"gray\")\n",
        "            plt.title(\"%d (%d)\" % (rounded[i], batch[1][i]))\n",
        "            ii = ii + 1"
      ]
    },
    {
      "cell_type": "markdown",
      "metadata": {
        "id": "zOCdcpW79DCM"
      },
      "source": [
        "Here are the first 10 images from the test data that this small model classified to a wrong class:\n",
        "\n"
      ]
    },
    {
      "cell_type": "code",
      "execution_count": null,
      "metadata": {
        "colab": {
          "base_uri": "https://localhost:8080/",
          "height": 142
        },
        "id": "GwQAP88o9DCM",
        "outputId": "f15fd74e-792c-4773-adc4-85117bd13b83"
      },
      "outputs": [
        {
          "output_type": "stream",
          "name": "stdout",
          "text": [
            "Showing max 10 first failures. The predicted class is shown first and the correct class in parentheses.\n"
          ]
        },
        {
          "output_type": "display_data",
          "data": {
            "text/plain": [
              "<Figure size 1000x100 with 7 Axes>"
            ],
            "image/png": "[encoded data removed]"
          },
          "metadata": {}
        }
      ],
      "source": [
        "show_failures(linear_model, test_dataloader)"
      ]
    },
    {
      "cell_type": "markdown",
      "metadata": {
        "id": "G6-zEN3V9DCM"
      },
      "source": [
        "<!-- # Exercise:\n",
        "- Try changing the loss function,\n",
        "- Try changing the optimizer -->"
      ]
    },
    {
      "cell_type": "markdown",
      "metadata": {
        "id": "u1Cg50eS9DCM"
      },
      "source": [
        "# Multilayer Model\n",
        "Our linear model isn't enough for high accuracy on this dataset. To improve the model, we often need to add more layers and nonlinearities.\n",
        "<img src=\"https://github.com/junohjung/ai-science-training-series/blob/main/02_intro_neural_networks/images/shallow_nn.png?raw=1\"  align=\"left\"/>\n",
        "\n",
        "The output of this NN can be written as\n",
        "\\begin{equation}\\label{eq: NN1d}\n",
        "  \\hat{u}(x) = \\sigma_2(\\sigma_1(\\mathbf{x}\\mathbf{W}_1 + \\mathbf{b}_1)\\mathbf{W}_2 + \\mathbf{b}_2),\n",
        "\\end{equation}\n",
        "where $\\mathbf{x}$ is the input, $\\mathbf{W}_j$ are the weights of the neural network, $\\sigma_j$ the (nonlinear) activation functions, and $\\mathbf{b}_j$ its biases. The activation function introduces the nonlinearity and makes it possible to learn more complex tasks. Desirable properties in an activation function include being differentiable, bounded, and monotonic.\n",
        "\n",
        "\n",
        "Image source: [PragatiBaheti](https://www.v7labs.com/blog/neural-networks-activation-functions)\n",
        "<img src=\"https://github.com/junohjung/ai-science-training-series/blob/main/02_intro_neural_networks/images/activation.jpeg?raw=1\"  align=\"center\"/>\n",
        "\n",
        "Adding more layers to obtain a deep neural network:\n",
        "<img src=\"https://github.com/junohjung/ai-science-training-series/blob/main/02_intro_neural_networks/images/deep_nn_annotated.jpg?raw=1\"  align=\"left\"/>\n",
        "\n",
        "\n",
        "\n",
        "# Important things to know\n",
        "Deep Neural networks can be overly flexible/complicated and \"overfit\" your data, just like fitting overly complicated polynomials:\n",
        "<img src=\"https://github.com/junohjung/ai-science-training-series/blob/main/02_intro_neural_networks/images/bias_vs_variance.png?raw=1\"  align=\"left\"/>\n",
        "\n",
        "\n",
        "Vizualization wrt to the accuracy and loss (Image source: [Baeldung](https://www.baeldung.com/cs/ml-underfitting-overfitting)):\n",
        "<img src=\"https://github.com/junohjung/ai-science-training-series/blob/main/02_intro_neural_networks/images/acc_under_over.webp?raw=1\"  align=\"center\"/>\n",
        "\n",
        "\n",
        "To improve the generalization of our model on previously unseen data, we employ a technique known as regularization, which constrains our optimization problem in order to discourage complex models.\n",
        "\n",
        "  - Dropout is the commonly used regularization technique. The Dropout layer randomly sets input units to 0 with a frequency of rate at each step during training time, which helps prevent overfitting.\n",
        "  - Penalizing the loss function by adding a term such as $\\lambda ||\\mathbf{W}||^2$ is alsp a commonly used regularization technique. This helps \"control\" the magnitude of the weights of the network.\n",
        "    \n",
        "Vanishing gradients: Gradients become small as they propagate backward through the layers. Squashing activation functions like sigmoid or tanh could cause this.\n",
        "\n",
        "Exploding gradients: Gradients grow exponentially usually due to \"poor\" weight initialization.\n",
        "\n",
        "<!--  <img src=\"images/test_data_rule.png\" width=\"800\" hight=\"500\" align=\"center\"/>\n",
        "  -->"
      ]
    },
    {
      "cell_type": "markdown",
      "metadata": {
        "id": "WD0Zxt9K9DCN"
      },
      "source": [
        "We can now implement a deep network in PyTorch. nn.Dropout() performs the Dropout operation mentioned earlier"
      ]
    },
    {
      "cell_type": "code",
      "execution_count": null,
      "metadata": {
        "id": "GEIPJkhP9DCN"
      },
      "outputs": [],
      "source": [
        "class NonlinearClassifier(nn.Module):\n",
        "\n",
        "    def __init__(self):\n",
        "        super().__init__()\n",
        "        self.flatten = nn.Flatten()\n",
        "        self.layers_stack = nn.Sequential(\n",
        "            nn.Linear(28*28, 50),\n",
        "            nn.Sigmoid(), #nn.ReLU(),\n",
        "            nn.Dropout(0.2),\n",
        "            nn.Linear(50, 50),\n",
        "            nn.Tanh(), #nn.ReLU(),\n",
        "            nn.Dropout(0.2),\n",
        "            nn.Linear(50, 50),\n",
        "            nn.ReLU(),\n",
        "            nn.Dropout(0.2),\n",
        "           # nn.Linear(50, 10)\n",
        "        )\n",
        "            #nn.Linear(28*28, 50),\n",
        "            #nn.ReLU(),\n",
        "            #nn.Dropout(0.2),\n",
        "            #nn.Linear(50, 50),\n",
        "            #nn.ReLU(),\n",
        "            #nn.Dropout(0.2),\n",
        "            #nn.Linear(50, 50),\n",
        "            #nn.ReLU(),\n",
        "            #nn.Dropout(0.2),\n",
        "            #nn.Linear(50, 10)\n",
        "\n",
        "    def forward(self, x):\n",
        "        x = self.flatten(x)\n",
        "        x = self.layers_stack(x)\n",
        "\n",
        "        return x"
      ]
    },
    {
      "cell_type": "code",
      "execution_count": null,
      "metadata": {
        "colab": {
          "base_uri": "https://localhost:8080/"
        },
        "id": "W8hUVY-A9DCO",
        "outputId": "c94ea765-a0c6-4598-edb4-d129a0e424c2"
      },
      "outputs": [
        {
          "output_type": "stream",
          "name": "stdout",
          "text": [
            "NonlinearClassifier(\n",
            "  (flatten): Flatten(start_dim=1, end_dim=-1)\n",
            "  (layers_stack): Sequential(\n",
            "    (0): Linear(in_features=784, out_features=50, bias=True)\n",
            "    (1): Sigmoid()\n",
            "    (2): Dropout(p=0.2, inplace=False)\n",
            "    (3): Linear(in_features=50, out_features=50, bias=True)\n",
            "    (4): Tanh()\n",
            "    (5): Dropout(p=0.2, inplace=False)\n",
            "    (6): Linear(in_features=50, out_features=50, bias=True)\n",
            "    (7): ReLU()\n",
            "    (8): Dropout(p=0.2, inplace=False)\n",
            "  )\n",
            ")\n",
            "<generator object Module.parameters at 0x7fa21d74bdf0>\n"
          ]
        }
      ],
      "source": [
        "nonlinear_model = NonlinearClassifier()\n",
        "print(nonlinear_model)\n",
        "loss_fn = nn.CrossEntropyLoss()\n",
        "optimizer = torch.optim.SGD(nonlinear_model.parameters(), lr=0.3)\n",
        "print(nonlinear_model.parameters())"
      ]
    },
    {
      "cell_type": "code",
      "execution_count": null,
      "metadata": {
        "colab": {
          "base_uri": "https://localhost:8080/",
          "height": 426
        },
        "id": "lybuKmTo9DCO",
        "outputId": "f85c9fe0-8f81-40f2-a7fb-923d7d4e8a4a"
      },
      "outputs": [
        {
          "output_type": "stream",
          "name": "stdout",
          "text": [
            "Epoch 0: training loss: 0.6564204364617665, accuracy: 88.37708333333333\n",
            "Epoch 0: val. loss: 0.6491509530138462, val. accuracy: 88.34166666666667\n"
          ]
        },
        {
          "output_type": "error",
          "ename": "KeyboardInterrupt",
          "evalue": "",
          "traceback": [
            "\u001b[0;31m---------------------------------------------------------------------------\u001b[0m",
            "\u001b[0;31mKeyboardInterrupt\u001b[0m                         Traceback (most recent call last)",
            "\u001b[0;32m<timed exec>\u001b[0m in \u001b[0;36m<module>\u001b[0;34m\u001b[0m\n",
            "\u001b[0;32m<ipython-input-10-3b0b83736ce7>\u001b[0m in \u001b[0;36mevaluate\u001b[0;34m(dataloader, model, loss_fn)\u001b[0m\n\u001b[1;32m     11\u001b[0m         \u001b[0;31m# loop over all of the batches\u001b[0m\u001b[0;34m\u001b[0m\u001b[0;34m\u001b[0m\u001b[0m\n\u001b[1;32m     12\u001b[0m         \u001b[0;32mfor\u001b[0m \u001b[0mX\u001b[0m\u001b[0;34m,\u001b[0m \u001b[0my\u001b[0m \u001b[0;32min\u001b[0m \u001b[0mdataloader\u001b[0m\u001b[0;34m:\u001b[0m\u001b[0;34m\u001b[0m\u001b[0;34m\u001b[0m\u001b[0m\n\u001b[0;32m---> 13\u001b[0;31m             \u001b[0mpred\u001b[0m \u001b[0;34m=\u001b[0m \u001b[0mmodel\u001b[0m\u001b[0;34m(\u001b[0m\u001b[0mX\u001b[0m\u001b[0;34m)\u001b[0m\u001b[0;34m\u001b[0m\u001b[0;34m\u001b[0m\u001b[0m\n\u001b[0m\u001b[1;32m     14\u001b[0m             \u001b[0mloss\u001b[0m \u001b[0;34m+=\u001b[0m \u001b[0mloss_fn\u001b[0m\u001b[0;34m(\u001b[0m\u001b[0mpred\u001b[0m\u001b[0;34m,\u001b[0m \u001b[0my\u001b[0m\u001b[0;34m)\u001b[0m\u001b[0;34m.\u001b[0m\u001b[0mitem\u001b[0m\u001b[0;34m(\u001b[0m\u001b[0;34m)\u001b[0m\u001b[0;34m\u001b[0m\u001b[0;34m\u001b[0m\u001b[0m\n\u001b[1;32m     15\u001b[0m             \u001b[0;31m# how many are correct in this batch? Tracking for accuracy\u001b[0m\u001b[0;34m\u001b[0m\u001b[0;34m\u001b[0m\u001b[0m\n",
            "\u001b[0;32m/usr/local/lib/python3.10/dist-packages/torch/nn/modules/module.py\u001b[0m in \u001b[0;36m_wrapped_call_impl\u001b[0;34m(self, *args, **kwargs)\u001b[0m\n\u001b[1;32m   1734\u001b[0m             \u001b[0;32mreturn\u001b[0m \u001b[0mself\u001b[0m\u001b[0;34m.\u001b[0m\u001b[0m_compiled_call_impl\u001b[0m\u001b[0;34m(\u001b[0m\u001b[0;34m*\u001b[0m\u001b[0margs\u001b[0m\u001b[0;34m,\u001b[0m \u001b[0;34m**\u001b[0m\u001b[0mkwargs\u001b[0m\u001b[0;34m)\u001b[0m  \u001b[0;31m# type: ignore[misc]\u001b[0m\u001b[0;34m\u001b[0m\u001b[0;34m\u001b[0m\u001b[0m\n\u001b[1;32m   1735\u001b[0m         \u001b[0;32melse\u001b[0m\u001b[0;34m:\u001b[0m\u001b[0;34m\u001b[0m\u001b[0;34m\u001b[0m\u001b[0m\n\u001b[0;32m-> 1736\u001b[0;31m             \u001b[0;32mreturn\u001b[0m \u001b[0mself\u001b[0m\u001b[0;34m.\u001b[0m\u001b[0m_call_impl\u001b[0m\u001b[0;34m(\u001b[0m\u001b[0;34m*\u001b[0m\u001b[0margs\u001b[0m\u001b[0;34m,\u001b[0m \u001b[0;34m**\u001b[0m\u001b[0mkwargs\u001b[0m\u001b[0;34m)\u001b[0m\u001b[0;34m\u001b[0m\u001b[0;34m\u001b[0m\u001b[0m\n\u001b[0m\u001b[1;32m   1737\u001b[0m \u001b[0;34m\u001b[0m\u001b[0m\n\u001b[1;32m   1738\u001b[0m     \u001b[0;31m# torchrec tests the code consistency with the following code\u001b[0m\u001b[0;34m\u001b[0m\u001b[0;34m\u001b[0m\u001b[0m\n",
            "\u001b[0;32m/usr/local/lib/python3.10/dist-packages/torch/nn/modules/module.py\u001b[0m in \u001b[0;36m_call_impl\u001b[0;34m(self, *args, **kwargs)\u001b[0m\n\u001b[1;32m   1745\u001b[0m                 \u001b[0;32mor\u001b[0m \u001b[0m_global_backward_pre_hooks\u001b[0m \u001b[0;32mor\u001b[0m \u001b[0m_global_backward_hooks\u001b[0m\u001b[0;34m\u001b[0m\u001b[0;34m\u001b[0m\u001b[0m\n\u001b[1;32m   1746\u001b[0m                 or _global_forward_hooks or _global_forward_pre_hooks):\n\u001b[0;32m-> 1747\u001b[0;31m             \u001b[0;32mreturn\u001b[0m \u001b[0mforward_call\u001b[0m\u001b[0;34m(\u001b[0m\u001b[0;34m*\u001b[0m\u001b[0margs\u001b[0m\u001b[0;34m,\u001b[0m \u001b[0;34m**\u001b[0m\u001b[0mkwargs\u001b[0m\u001b[0;34m)\u001b[0m\u001b[0;34m\u001b[0m\u001b[0;34m\u001b[0m\u001b[0m\n\u001b[0m\u001b[1;32m   1748\u001b[0m \u001b[0;34m\u001b[0m\u001b[0m\n\u001b[1;32m   1749\u001b[0m         \u001b[0mresult\u001b[0m \u001b[0;34m=\u001b[0m \u001b[0;32mNone\u001b[0m\u001b[0;34m\u001b[0m\u001b[0;34m\u001b[0m\u001b[0m\n",
            "\u001b[0;32m<ipython-input-84-aca14437f4a2>\u001b[0m in \u001b[0;36mforward\u001b[0;34m(self, x)\u001b[0m\n\u001b[1;32m     29\u001b[0m     \u001b[0;32mdef\u001b[0m \u001b[0mforward\u001b[0m\u001b[0;34m(\u001b[0m\u001b[0mself\u001b[0m\u001b[0;34m,\u001b[0m \u001b[0mx\u001b[0m\u001b[0;34m)\u001b[0m\u001b[0;34m:\u001b[0m\u001b[0;34m\u001b[0m\u001b[0;34m\u001b[0m\u001b[0m\n\u001b[1;32m     30\u001b[0m         \u001b[0mx\u001b[0m \u001b[0;34m=\u001b[0m \u001b[0mself\u001b[0m\u001b[0;34m.\u001b[0m\u001b[0mflatten\u001b[0m\u001b[0;34m(\u001b[0m\u001b[0mx\u001b[0m\u001b[0;34m)\u001b[0m\u001b[0;34m\u001b[0m\u001b[0;34m\u001b[0m\u001b[0m\n\u001b[0;32m---> 31\u001b[0;31m         \u001b[0mx\u001b[0m \u001b[0;34m=\u001b[0m \u001b[0mself\u001b[0m\u001b[0;34m.\u001b[0m\u001b[0mlayers_stack\u001b[0m\u001b[0;34m(\u001b[0m\u001b[0mx\u001b[0m\u001b[0;34m)\u001b[0m\u001b[0;34m\u001b[0m\u001b[0;34m\u001b[0m\u001b[0m\n\u001b[0m\u001b[1;32m     32\u001b[0m \u001b[0;34m\u001b[0m\u001b[0m\n\u001b[1;32m     33\u001b[0m         \u001b[0;32mreturn\u001b[0m \u001b[0mx\u001b[0m\u001b[0;34m\u001b[0m\u001b[0;34m\u001b[0m\u001b[0m\n",
            "\u001b[0;32m/usr/local/lib/python3.10/dist-packages/torch/nn/modules/module.py\u001b[0m in \u001b[0;36m_wrapped_call_impl\u001b[0;34m(self, *args, **kwargs)\u001b[0m\n\u001b[1;32m   1734\u001b[0m             \u001b[0;32mreturn\u001b[0m \u001b[0mself\u001b[0m\u001b[0;34m.\u001b[0m\u001b[0m_compiled_call_impl\u001b[0m\u001b[0;34m(\u001b[0m\u001b[0;34m*\u001b[0m\u001b[0margs\u001b[0m\u001b[0;34m,\u001b[0m \u001b[0;34m**\u001b[0m\u001b[0mkwargs\u001b[0m\u001b[0;34m)\u001b[0m  \u001b[0;31m# type: ignore[misc]\u001b[0m\u001b[0;34m\u001b[0m\u001b[0;34m\u001b[0m\u001b[0m\n\u001b[1;32m   1735\u001b[0m         \u001b[0;32melse\u001b[0m\u001b[0;34m:\u001b[0m\u001b[0;34m\u001b[0m\u001b[0;34m\u001b[0m\u001b[0m\n\u001b[0;32m-> 1736\u001b[0;31m             \u001b[0;32mreturn\u001b[0m \u001b[0mself\u001b[0m\u001b[0;34m.\u001b[0m\u001b[0m_call_impl\u001b[0m\u001b[0;34m(\u001b[0m\u001b[0;34m*\u001b[0m\u001b[0margs\u001b[0m\u001b[0;34m,\u001b[0m \u001b[0;34m**\u001b[0m\u001b[0mkwargs\u001b[0m\u001b[0;34m)\u001b[0m\u001b[0;34m\u001b[0m\u001b[0;34m\u001b[0m\u001b[0m\n\u001b[0m\u001b[1;32m   1737\u001b[0m \u001b[0;34m\u001b[0m\u001b[0m\n\u001b[1;32m   1738\u001b[0m     \u001b[0;31m# torchrec tests the code consistency with the following code\u001b[0m\u001b[0;34m\u001b[0m\u001b[0;34m\u001b[0m\u001b[0m\n",
            "\u001b[0;32m/usr/local/lib/python3.10/dist-packages/torch/nn/modules/module.py\u001b[0m in \u001b[0;36m_call_impl\u001b[0;34m(self, *args, **kwargs)\u001b[0m\n\u001b[1;32m   1745\u001b[0m                 \u001b[0;32mor\u001b[0m \u001b[0m_global_backward_pre_hooks\u001b[0m \u001b[0;32mor\u001b[0m \u001b[0m_global_backward_hooks\u001b[0m\u001b[0;34m\u001b[0m\u001b[0;34m\u001b[0m\u001b[0m\n\u001b[1;32m   1746\u001b[0m                 or _global_forward_hooks or _global_forward_pre_hooks):\n\u001b[0;32m-> 1747\u001b[0;31m             \u001b[0;32mreturn\u001b[0m \u001b[0mforward_call\u001b[0m\u001b[0;34m(\u001b[0m\u001b[0;34m*\u001b[0m\u001b[0margs\u001b[0m\u001b[0;34m,\u001b[0m \u001b[0;34m**\u001b[0m\u001b[0mkwargs\u001b[0m\u001b[0;34m)\u001b[0m\u001b[0;34m\u001b[0m\u001b[0;34m\u001b[0m\u001b[0m\n\u001b[0m\u001b[1;32m   1748\u001b[0m \u001b[0;34m\u001b[0m\u001b[0m\n\u001b[1;32m   1749\u001b[0m         \u001b[0mresult\u001b[0m \u001b[0;34m=\u001b[0m \u001b[0;32mNone\u001b[0m\u001b[0;34m\u001b[0m\u001b[0;34m\u001b[0m\u001b[0m\n",
            "\u001b[0;32m/usr/local/lib/python3.10/dist-packages/torch/nn/modules/container.py\u001b[0m in \u001b[0;36mforward\u001b[0;34m(self, input)\u001b[0m\n\u001b[1;32m    248\u001b[0m     \u001b[0;32mdef\u001b[0m \u001b[0mforward\u001b[0m\u001b[0;34m(\u001b[0m\u001b[0mself\u001b[0m\u001b[0;34m,\u001b[0m \u001b[0minput\u001b[0m\u001b[0;34m)\u001b[0m\u001b[0;34m:\u001b[0m\u001b[0;34m\u001b[0m\u001b[0;34m\u001b[0m\u001b[0m\n\u001b[1;32m    249\u001b[0m         \u001b[0;32mfor\u001b[0m \u001b[0mmodule\u001b[0m \u001b[0;32min\u001b[0m \u001b[0mself\u001b[0m\u001b[0;34m:\u001b[0m\u001b[0;34m\u001b[0m\u001b[0;34m\u001b[0m\u001b[0m\n\u001b[0;32m--> 250\u001b[0;31m             \u001b[0minput\u001b[0m \u001b[0;34m=\u001b[0m \u001b[0mmodule\u001b[0m\u001b[0;34m(\u001b[0m\u001b[0minput\u001b[0m\u001b[0;34m)\u001b[0m\u001b[0;34m\u001b[0m\u001b[0;34m\u001b[0m\u001b[0m\n\u001b[0m\u001b[1;32m    251\u001b[0m         \u001b[0;32mreturn\u001b[0m \u001b[0minput\u001b[0m\u001b[0;34m\u001b[0m\u001b[0;34m\u001b[0m\u001b[0m\n\u001b[1;32m    252\u001b[0m \u001b[0;34m\u001b[0m\u001b[0m\n",
            "\u001b[0;31mKeyboardInterrupt\u001b[0m: "
          ]
        }
      ],
      "source": [
        "%%time\n",
        "\n",
        "epochs = 10\n",
        "train_acc_all = []\n",
        "val_acc_all = []\n",
        "for j in range(epochs):\n",
        "    train_one_epoch(train_dataloader, nonlinear_model, loss_fn, optimizer)\n",
        "\n",
        "    # checking on the training loss and accuracy once per epoch\n",
        "    acc, loss = evaluate(train_dataloader, nonlinear_model, loss_fn)\n",
        "    train_acc_all.append(acc)\n",
        "    print(f\"Epoch {j}: training loss: {loss}, accuracy: {acc}\")\n",
        "\n",
        "    # checking on the validation loss and accuracy once per epoch\n",
        "    val_acc, val_loss = evaluate(val_dataloader, nonlinear_model, loss_fn)\n",
        "    val_acc_all.append(val_acc)\n",
        "    print(f\"Epoch {j}: val. loss: {val_loss}, val. accuracy: {val_acc}\")"
      ]
    },
    {
      "cell_type": "code",
      "execution_count": null,
      "metadata": {
        "colab": {
          "base_uri": "https://localhost:8080/",
          "height": 867
        },
        "id": "uMd0dMYF9DCO",
        "outputId": "2d31ea93-3796-4e29-c090-9e4fe95aa571"
      },
      "outputs": [
        {
          "output_type": "execute_result",
          "data": {
            "text/plain": [
              "<matplotlib.legend.Legend at 0x7e4bc11e10f0>"
            ]
          },
          "metadata": {},
          "execution_count": 166
        },
        {
          "output_type": "display_data",
          "data": {
            "text/plain": [
              "<Figure size 1000x1000 with 1 Axes>"
            ],
            "image/png": "[encoded data removed]"
          },
          "metadata": {}
        }
      ],
      "source": [
        "pltsize=1\n",
        "plt.figure(figsize=(10*pltsize, 10 * pltsize))\n",
        "plt.plot(range(epochs), train_acc_all,label = 'Training Acc.' )\n",
        "plt.plot(range(epochs), val_acc_all, label = 'Validation Acc.' )\n",
        "plt.xlabel('Epoch #')\n",
        "plt.ylabel('Loss')\n",
        "plt.legend()"
      ]
    },
    {
      "cell_type": "code",
      "execution_count": null,
      "metadata": {
        "colab": {
          "base_uri": "https://localhost:8080/",
          "height": 142
        },
        "id": "S7IxAGoF9DCP",
        "outputId": "6ce2c40d-9278-47df-c329-06e52be227c4"
      },
      "outputs": [
        {
          "output_type": "stream",
          "name": "stdout",
          "text": [
            "Showing max 10 first failures. The predicted class is shown first and the correct class in parentheses.\n"
          ]
        },
        {
          "output_type": "display_data",
          "data": {
            "text/plain": [
              "<Figure size 1000x100 with 1 Axes>"
            ],
            "image/png": "[encoded data removed]"
          },
          "metadata": {}
        }
      ],
      "source": [
        "show_failures(nonlinear_model, test_dataloader)"
      ]
    },
    {
      "cell_type": "markdown",
      "metadata": {
        "id": "5wi4g8os9DCP"
      },
      "source": [
        "# Recap\n",
        "To train and validate a neural network model, you need:\n",
        "- Data split into training/validation/test sets,\n",
        "- A model with parameters to learn,\n",
        "- An appropriate loss function,\n",
        "- An optimizer (with tunable parameters such as learning rate, weight decay etc.) used to learn the parameters of the model.\n"
      ]
    },
    {
      "cell_type": "markdown",
      "metadata": {
        "id": "xaNy75uF9DCP"
      },
      "source": [
        "# Homework"
      ]
    },
    {
      "cell_type": "markdown",
      "metadata": {
        "id": "luACAOcx9DCP"
      },
      "source": [
        "1. Compare the quality of your model when using different:\n",
        " - batch sizes,\n",
        " - learning rates,\n",
        " - activation functions.\n",
        "\n",
        "3. Bonus: What is a learning rate scheduler?\n",
        "\n",
        "If you have time, experiment with how to improve the model. Note: training and validation data can be used to compare models, but test data should be saved until the end as a final check of generalization."
      ]
    },
    {
      "cell_type": "markdown",
      "source": [
        "Case 1) changing a batch size:\n",
        "\n",
        "A larger batch size tends to decrease the accuracy of both training and validation. However, increasing the number of epochs can lead to further improvements in accuracy."
      ],
      "metadata": {
        "id": "CtfYhH5RPeWB"
      }
    },
    {
      "cell_type": "markdown",
      "source": [
        "Batch size:32\n",
        "\n",
        "Epoch 0: training loss: 0.29131900386884807, accuracy: 91.525\n",
        "\n",
        "Epoch 0: val. loss: 0.2841597080429395, val. accuracy: 91.45833333333333\n",
        "\n",
        "Epoch 1: training loss: 0.18409809742371241, accuracy: 94.53958333333333\n",
        "\n",
        "Epoch 1: val. loss: 0.19084752556681633, val. accuracy: 94.25\n",
        "\n",
        "Epoch 2: training loss: 0.15294542299055805, accuracy: 95.40625\n",
        "\n",
        "Epoch 2: val. loss: 0.165590115668873, val. accuracy: 95.00833333333333\n",
        "\n",
        "Epoch 3: training loss: 0.11862136484667038, accuracy: 96.45625\n",
        "\n",
        "Epoch 3: val. loss: 0.13705157951141397, val. accuracy: 95.80833333333332\n",
        "\n",
        "Epoch 4: training loss: 0.11588265312532894, accuracy: 96.50416666666666\n",
        "\n",
        "Epoch 4: val. loss: 0.13722581070226927, val. accuracy: 95.96666666666667\n",
        "\n",
        "CPU times: user 1min 43s, sys: 256 ms, total: 1min 44s\n",
        "\n",
        "Wall time: 1min 44s"
      ],
      "metadata": {
        "id": "xz5L8nPfXoWZ"
      }
    },
    {
      "cell_type": "markdown",
      "source": [
        "Batch size:64\n",
        "\n",
        "Epoch 0: training loss: 0.6258238563537598, accuracy: 83.275\n",
        "\n",
        "Epoch 0: val. loss: 0.6197105801485955, val. accuracy: 82.875\n",
        "\n",
        "Epoch 1: training loss: 0.36681868465741474, accuracy: 89.58333333333334\n",
        "\n",
        "Epoch 1: val. loss: 0.3580862220297468, val. accuracy: 89.59166666666667\n",
        "\n",
        "Epoch 2: training loss: 0.27679769706726076, accuracy: 92.09166666666667\n",
        "\n",
        "Epoch 2: val. loss: 0.27044944179818986, val. accuracy: 91.975\n",
        "\n",
        "Epoch 3: training loss: 0.23461232008536656, accuracy: 93.18333333333332\n",
        "\n",
        "Epoch 3: val. loss: 0.23229535090479445, val. accuracy: 92.99166666666666\n",
        "\n",
        "Epoch 4: training loss: 0.20071764115492502, accuracy: 94.2125\n",
        "\n",
        "Epoch 4: val. loss: 0.20180098030795443, val. accuracy: 93.94166666666666\n",
        "\n",
        "CPU times: user 1min 20s, sys: 230 ms, total: 1min 20s\n",
        "\n",
        "Wall time: 1min 22s\n",
        "\n",
        "\n"
      ],
      "metadata": {
        "id": "_mK7T-M-Pmvn"
      }
    },
    {
      "cell_type": "markdown",
      "source": [
        "Batch size:128\n",
        "\n",
        "Epoch 0: training loss: 0.9381435205141704, accuracy: 73.70416666666667\n",
        "\n",
        "Epoch 0: val. loss: 0.9299069040633262, val. accuracy: 73.58333333333333\n",
        "\n",
        "Epoch 1: training loss: 0.4153559052149455, accuracy: 88.43958333333333\n",
        "\n",
        "Epoch 1: val. loss: 0.40775066360514217, val. accuracy: 88.5\n",
        "\n",
        "Epoch 2: training loss: 0.3237801838318507, accuracy: 90.85\n",
        "\n",
        "Epoch 2: val. loss: 0.3187925840945954, val. accuracy: 90.65833333333333\n",
        "\n",
        "Epoch 3: training loss: 0.263333734691143, accuracy: 92.44791666666666\n",
        "\n",
        "Epoch 3: val. loss: 0.2617023230550137, val. accuracy: 92.4\n",
        "\n",
        "Epoch 4: training loss: 0.22751247133811314, accuracy: 93.38333333333333\n",
        "\n",
        "Epoch 4: val. loss: 0.22953893664352437, val. accuracy: 93.18333333333332\n",
        "\n",
        "CPU times: user 1min 22s, sys: 234 ms, total: 1min 23s\n",
        "\n",
        "Wall time: 1min 24s\n"
      ],
      "metadata": {
        "id": "zwZAJQk8UKhU"
      }
    },
    {
      "cell_type": "markdown",
      "source": [
        "Batch size: 256\n",
        "\n",
        "Epoch 0: training loss: 0.6883666985829672, accuracy: 80.14375\n",
        "\n",
        "Epoch 0: val. loss: 0.6844882083700058, val. accuracy: 79.65\n",
        "\n",
        "Epoch 1: training loss: 0.3818241737683614, accuracy: 88.89166666666667\n",
        "\n",
        "Epoch 1: val. loss: 0.3753638118505478, val. accuracy: 89.05\n",
        "\n",
        "Epoch 2: training loss: 0.297781964023908, accuracy: 91.41458333333333\n",
        "\n",
        "Epoch 2: val. loss: 0.29112379474842803, val. accuracy: 91.60000000000001\n",
        "\n",
        "Epoch 3: training loss: 0.24593730445702872, accuracy: 92.875\n",
        "\n",
        "Epoch 3: val. loss: 0.2453317843536113, val. accuracy: 92.70833333333334\n",
        "\n",
        "Epoch 4: training loss: 0.2089225091934204, accuracy: 93.875\n",
        "\n",
        "Epoch 4: val. loss: 0.2114112250348355, val. accuracy: 93.65\n",
        "\n",
        "CPU times: user 1min 23s, sys: 216 ms, total: 1min 24s\n",
        "\n",
        "Wall time: 1min 24s"
      ],
      "metadata": {
        "id": "ut-0ISlLUHtq"
      }
    },
    {
      "cell_type": "markdown",
      "source": [
        "Case 2) changing learning rate"
      ],
      "metadata": {
        "id": "reqpzz-VeKg8"
      }
    },
    {
      "cell_type": "markdown",
      "source": [
        "Increasing learning rate when the batch size is 128\n",
        "\n",
        "**case 1: lr=0.05**\n",
        "\n",
        "Epoch 0: training loss: 0.7054495368003845, accuracy: 80.58125000000001\n",
        "\n",
        "Epoch 0: val. loss: 0.6976430504880053, val. accuracy: 80.23333333333333\n",
        "\n",
        "Epoch 1: training loss: 0.39384935518105824, accuracy: 88.91666666666667\n",
        "\n",
        "Epoch 1: val. loss: 0.38333532753142907, val. accuracy: 89.03333333333333\n",
        "\n",
        "Epoch 2: training loss: 0.3168396691083908, accuracy: 90.99791666666667\n",
        "\n",
        "Epoch 2: val. loss: 0.30668793824758933, val. accuracy: 90.95\n",
        "\n",
        "Epoch 3: training loss: 0.26911213290691377, accuracy: 92.16666666666666\n",
        "\n",
        "Epoch 3: val. loss: 0.26385345492274204, val. accuracy: 91.98333333333333\n",
        "\n",
        "Epoch 4: training loss: 0.23557254030307134, accuracy: 93.06458333333333\n",
        "\n",
        "Epoch 4: val. loss: 0.23513868673050659, val. accuracy: 92.81666666666666\n",
        "\n",
        "Epoch 5: training loss: 0.19646135606368384, accuracy: 94.27083333333334\n",
        "\n",
        "Epoch 5: val. loss: 0.19845211062025517, val. accuracy: 94.08333333333333\n",
        "\n",
        "Epoch 6: training loss: 0.17811596061786017, accuracy: 94.77083333333334\n",
        "\n",
        "Epoch 6: val. loss: 0.18287449876995795, val. accuracy: 94.43333333333334\n",
        "\n",
        "Epoch 7: training loss: 0.15860307662685713, accuracy: 95.4125\n",
        "\n",
        "Epoch 7: val. loss: 0.16560463171373022, val. accuracy: 94.95\n",
        "\n",
        "Epoch 8: training loss: 0.1470012096464634, accuracy: 95.73958333333333\n",
        "\n",
        "Epoch 8: val. loss: 0.15763748084452558, val. accuracy: 95.35833333333333\n",
        "\n",
        "Epoch 9: training loss: 0.13281818852821986, accuracy: 96.11041666666667\n",
        "\n",
        "Epoch 9: val. loss: 0.14512682603077687, val. accuracy: 95.75\n",
        "\n",
        "CPU times: user 2min 51s, sys: 436 ms, total: 2min 51s\n",
        "\n",
        "Wall time: 2min 54s\n",
        "\n",
        "**case 2: lr=0.1**\n",
        "\n",
        "Epoch 0: training loss: 0.42249138867855074, accuracy: 87.9375\n",
        "\n",
        "Epoch 0: val. loss: 0.4182213820675586, val. accuracy: 87.59166666666667\n",
        "\n",
        "Epoch 1: training loss: 0.27233588713407514, accuracy: 92.06458333333333\n",
        "\n",
        "Epoch 1: val. loss: 0.26649454331144373, val. accuracy: 91.78333333333333\n",
        "\n",
        "Epoch 2: training loss: 0.20216313660144805, accuracy: 94.07708333333333\n",
        "\n",
        "Epoch 2: val. loss: 0.19866923266585837, val. accuracy: 93.83333333333333\n",
        "\n",
        "Epoch 3: training loss: 0.162623608648777, accuracy: 95.18958333333333\n",
        "\n",
        "Epoch 3: val. loss: 0.16473303037755033, val. accuracy: 95.0\n",
        "\n",
        "Epoch 4: training loss: 0.1449021589756012, accuracy: 95.74166666666667\n",
        "\n",
        "Epoch 4: val. loss: 0.15292797499197594, val. accuracy: 95.375\n",
        "\n",
        "Epoch 5: training loss: 0.12268872735400994, accuracy: 96.42291666666667\n",
        "\n",
        "Epoch 5: val. loss: 0.13631316698453527, val. accuracy: 95.92500000000001\n",
        "\n",
        "Epoch 6: training loss: 0.10751236519217491, accuracy: 96.8625\n",
        "\n",
        "Epoch 6: val. loss: 0.1251274994079103, val. accuracy: 96.23333333333333\n",
        "\n",
        "Epoch 7: training loss: 0.10149870605270069, accuracy: 97.02083333333333\n",
        "\n",
        "Epoch 7: val. loss: 0.12504381165304718, val. accuracy: 96.26666666666667\n",
        "\n",
        "Epoch 8: training loss: 0.10177444050709407, accuracy: 96.95625\n",
        "\n",
        "Epoch 8: val. loss: 0.12256500899712457, val. accuracy: 96.29166666666666\n",
        "\n",
        "Epoch 9: training loss: 0.08529789289583763, accuracy: 97.48541666666667\n",
        "\n",
        "Epoch 9: val. loss: 0.1121811194820924, val. accuracy: 96.48333333333333\n",
        "\n",
        "CPU times: user 2min 45s, sys: 471 ms, total: 2min 46s\n",
        "\n",
        "Wall time: 2min 47s\n",
        "\n",
        "\n",
        "**case 3: lr=0.2**\n",
        "\n",
        "Epoch 0: training loss: 0.30787422092755634, accuracy: 90.43333333333334\n",
        "\n",
        "Epoch 0: val. loss: 0.30312057394296565, val. accuracy: 90.425\n",
        "\n",
        "Epoch 1: training loss: 0.1899070992867152, accuracy: 94.33541666666667\n",
        "\n",
        "Epoch 1: val. loss: 0.19753529725873725, val. accuracy: 94.09166666666667\n",
        "\n",
        "Epoch 2: training loss: 0.1416174286107222, accuracy: 95.71458333333334\n",
        "\n",
        "Epoch 2: val. loss: 0.15497982391017548, val. accuracy: 95.19999999999999\n",
        "\n",
        "Epoch 3: training loss: 0.13038782139619193, accuracy: 96.025\n",
        "\n",
        "Epoch 3: val. loss: 0.146780738448526, val. accuracy: 95.69166666666666\n",
        "\n",
        "Epoch 4: training loss: 0.10988345964252949, accuracy: 96.61458333333334\n",
        "\n",
        "Epoch 4: val. loss: 0.13384335995354552, val. accuracy: 95.94166666666666\n",
        "\n",
        "Epoch 5: training loss: 0.09641316247483095, accuracy: 97.10208333333334\n",
        "\n",
        "Epoch 5: val. loss: 0.11951003469368245, val. accuracy: 96.45\n",
        "\n",
        "Epoch 6: training loss: 0.0851337542682886, accuracy: 97.41666666666666\n",
        "\n",
        "Epoch 6: val. loss: 0.11780832155032996, val. accuracy: 96.42500000000001\n",
        "\n",
        "Epoch 7: training loss: 0.09208646741012733, accuracy: 97.17916666666667\n",
        "\n",
        "Epoch 7: val. loss: 0.12309837676188413, val. accuracy: 96.35833333333333\n",
        "\n",
        "Epoch 8: training loss: 0.08219975915799538, accuracy: 97.51875\n",
        "\n",
        "Epoch 8: val. loss: 0.11629172390762796, val. accuracy: 96.53333333333333\n",
        "\n",
        "Epoch 9: training loss: 0.07177605073153973, accuracy: 97.76666666666667\n",
        "\n",
        "Epoch 9: val. loss: 0.10600652860754982, val. accuracy: 96.99166666666666\n",
        "\n",
        "CPU times: user 2min 46s, sys: 445 ms, total: 2min 47s\n",
        "\n",
        "Wall time: 2min 49s\n"
      ],
      "metadata": {
        "id": "lAu5baT3gncd"
      }
    },
    {
      "cell_type": "markdown",
      "source": [
        "Case 3) changing actication functions\n",
        "\n",
        "Linear model vs nonlinear models\n",
        "\n",
        "Based on the workshop session, we learned that when the data is complex, it is encounraged to use nonlinear models.\n",
        "\n"
      ],
      "metadata": {
        "id": "I_F1m77eeOcT"
      }
    },
    {
      "cell_type": "markdown",
      "source": [
        "            batch size =128, lr=0.3\n",
        "            \n",
        "            nn.Linear(28*28, 50),\n",
        "            nn.ReLU(),\n",
        "            nn.Dropout(0.2),\n",
        "            nn.Linear(50, 50),\n",
        "            nn.ReLU(),\n",
        "            nn.Dropout(0.2),\n",
        "            nn.Linear(50, 50),\n",
        "            nn.ReLU(),\n",
        "            nn.Dropout(0.2),\n",
        "            nn.Linear(50, 10)"
      ],
      "metadata": {
        "id": "dOM4TtehiJjF"
      }
    },
    {
      "cell_type": "markdown",
      "source": [
        "Epoch 0: training loss: 0.26729255012671155, accuracy: 92.14375\n",
        "\n",
        "Epoch 0: val. loss: 0.2640840817005076, val. accuracy: 91.94166666666666\n",
        "\n",
        "Epoch 1: training loss: 0.18869464746117592, accuracy: 94.47916666666667\n",
        "\n",
        "Epoch 1: val. loss: 0.19057613413067573, val. accuracy: 94.24166666666667\n",
        "\n",
        "Epoch 2: training loss: 0.1497707671970129, accuracy: 95.68541666666667\n",
        "\n",
        "Epoch 2: val. loss: 0.15608188018519828, val. accuracy: 95.26666666666667\n",
        "\n",
        "Epoch 3: training loss: 0.158395018607378, accuracy: 95.275\n",
        "\n",
        "Epoch 3: val. loss: 0.16640863436809245, val. accuracy: 95.15833333333333\n",
        "\n",
        "Epoch 4: training loss: 0.1172935082167387, accuracy: 96.51666666666667\n",
        "\n",
        "Epoch 4: val. loss: 0.13357398173514198, val. accuracy: 96.04166666666667\n",
        "\n",
        "Epoch 5: training loss: 0.10673859466115633, accuracy: 96.83958333333334\n",
        "\n",
        "Epoch 5: val. loss: 0.12645901725726558, val. accuracy: 96.21666666666667\n",
        "\n",
        "Epoch 6: training loss: 0.10672907103101413, accuracy: 96.73958333333333\n",
        "\n",
        "Epoch 6: val. loss: 0.13441027039067543, val. accuracy: 96.05\n",
        "\n",
        "Epoch 7: training loss: 0.09520059526711702, accuracy: 97.13333333333334\n",
        "\n",
        "Epoch 7: val. loss: 0.12319129336863122, val. accuracy: 96.50833333333333\n",
        "\n",
        "Epoch 8: training loss: 0.0915482457006971, accuracy: 97.25208333333333\n",
        "\n",
        "Epoch 8: val. loss: 0.12184755557632827, val. accuracy: 96.51666666666667\n",
        "\n",
        "Epoch 9: training loss: 0.08303700684756041, accuracy: 97.49166666666666\n",
        "\n",
        "Epoch 9: val. loss: 0.11703302026627228, val. accuracy: 96.54166666666667\n",
        "\n",
        "CPU times: user 2min 32s, sys: 337 ms, total: 2min 32s\n",
        "\n",
        "Wall time: 2min 33s"
      ],
      "metadata": {
        "id": "dK_swLw7h-SA"
      }
    },
    {
      "cell_type": "markdown",
      "source": [
        "The dropout which is for regularization works for improvement of the accuracy."
      ],
      "metadata": {
        "id": "QkE-BDrkiYCf"
      }
    },
    {
      "cell_type": "markdown",
      "source": [
        "batch_size=128 lr=0.3\n",
        "\n",
        "            nn.Linear(28*28, 50),\n",
        "            nn.Sigmoid(), #nn.ReLU(),\n",
        "            nn.Dropout(0.2),\n",
        "            nn.Linear(50, 50),\n",
        "\n",
        "\n",
        "Epoch 0: training loss: 0.44581544494628905, accuracy: 88.61666666666666\n",
        "\n",
        "Epoch 0: val. loss: 0.43788369602345406, val. accuracy: 88.66666666666667\n",
        "\n",
        "Epoch 1: training loss: 0.33875611062844596, accuracy: 90.55625\n",
        "\n",
        "Epoch 1: val. loss: 0.3288847815166128, val. accuracy: 90.7\n",
        "\n",
        "Epoch 2: training loss: 0.2974626346826553, accuracy: 91.64375\n",
        "\n",
        "Epoch 2: val. loss: 0.2877089924951817, val. accuracy: 91.59166666666667\n",
        "\n",
        "Epoch 3: training loss: 0.270755511879921, accuracy: 92.35833333333333\n",
        "\n",
        "Epoch 3: val. loss: 0.262733333922447, val. accuracy: 92.25\n",
        "\n",
        "Epoch 4: training loss: 0.2507853065331777, accuracy: 92.85416666666667\n",
        "\n",
        "Epoch 4: val. loss: 0.24446749338444243, val. accuracy: 92.76666666666667\n",
        "\n",
        "Epoch 5: training loss: 0.23335377138853072, accuracy: 93.36041666666667\n",
        "\n",
        "Epoch 5: val. loss: 0.2287518858434038, val. accuracy: 93.175\n",
        "\n",
        "Epoch 6: training loss: 0.21995131558179856, accuracy: 93.68958333333333\n",
        "\n",
        "Epoch 6: val. loss: 0.216792928332344, val. accuracy: 93.525\n",
        "\n",
        "Epoch 7: training loss: 0.2062664137283961, accuracy: 94.15625\n",
        "\n",
        "Epoch 7: val. loss: 0.2044300415572968, val. accuracy: 93.89166666666667\n",
        "\n",
        "Epoch 8: training loss: 0.19641785301764805, accuracy: 94.42291666666667\n",
        "\n",
        "Epoch 8: val. loss: 0.1958484008432703, val. accuracy: 94.18333333333334\n",
        "\n",
        "Epoch 9: training loss: 0.18750431855519611, accuracy: 94.66458333333333\n",
        "\n",
        "Epoch 9: val. loss: 0.1881109189955478, val. accuracy: 94.375\n",
        "\n",
        "CPU times: user 2min 30s, sys: 336 ms, total: 2min 30s\n",
        "\n",
        "Wall time: 2min 31s"
      ],
      "metadata": {
        "id": "i8QdDDIGlW6m"
      }
    },
    {
      "cell_type": "markdown",
      "source": [
        "When the layer become simple, then the accuracy become less.\n",
        "Also, I noticed that if there is no linear actuation function at the last step, the accuracy is very poor. The appropriate use of the activation functions are important. How to choose needs to be investigated...."
      ],
      "metadata": {
        "id": "z8slNpuHlp_v"
      }
    }
  ],
  "metadata": {
    "kernelspec": {
      "display_name": "Python 3 (ipykernel)",
      "language": "python",
      "name": "python3"
    },
    "language_info": {
      "codemirror_mode": {
        "name": "ipython",
        "version": 3
      },
      "file_extension": ".py",
      "mimetype": "text/x-python",
      "name": "python",
      "nbconvert_exporter": "python",
      "pygments_lexer": "ipython3",
      "version": "3.7.4"
    },
    "colab": {
      "provenance": [],
      "include_colab_link": true
    }
  },
  "nbformat": 4,
  "nbformat_minor": 0
}